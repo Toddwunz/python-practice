{
 "cells": [
  {
   "cell_type": "code",
   "execution_count": 4,
   "metadata": {},
   "outputs": [
    {
     "name": "stdout",
     "output_type": "stream",
     "text": [
      "/home/python3.5.3/.python-version\n",
      "/home/python3.5.3/.ipynb_checkpoints\n",
      "/home/python3.5.3/no_exit.txt\n",
      "/home/python3.5.3/todd.tar.23Aug\n",
      "/home/python3.5.3/nohup.out\n",
      "/home/python3.5.3/todd\n",
      "/home/python3.5.3/File IO operation.ipynb\n",
      "/home/python3.5.3/上下文管理 with.ipynb\n",
      "/home/python3.5.3/aa\n",
      "/home/python3.5.3/week 8 class 1.ipynb\n",
      "/home/python3.5.3/Untitled.ipynb\n",
      "/home/python3.5.3/7 week's home work.ipynb\n",
      "/home/python3.5.3/log1\n",
      "/home/python3.5.3/unix_main.sh\n",
      "/home/python3.5.3/test.txt\n",
      "/home/python3.5.3/ls.py\n",
      "/home/python3.5.3/find.py\n",
      "/home/python3.5.3/log2\n"
     ]
    }
   ],
   "source": [
    "import pathlib\n",
    "import stat\n",
    "import datetime\n",
    "for item in pathlib.Path('.').iterdir():\n",
    "    print(item.resolve())"
   ]
  },
  {
   "cell_type": "code",
   "execution_count": 5,
   "metadata": {},
   "outputs": [],
   "source": [
    "f = pathlib.Path('./no_exit.txt')"
   ]
  },
  {
   "cell_type": "code",
   "execution_count": 6,
   "metadata": {},
   "outputs": [
    {
     "data": {
      "text/plain": [
       "'root'"
      ]
     },
     "execution_count": 6,
     "metadata": {},
     "output_type": "execute_result"
    }
   ],
   "source": [
    "f.owner()"
   ]
  },
  {
   "cell_type": "code",
   "execution_count": 11,
   "metadata": {},
   "outputs": [
    {
     "data": {
      "text/plain": [
       "os.stat_result(st_mode=33188, st_ino=67295863, st_dev=64768, st_nlink=1, st_uid=0, st_gid=0, st_size=0, st_atime=1541171667, st_mtime=1535194134, st_ctime=1535194134)"
      ]
     },
     "execution_count": 11,
     "metadata": {},
     "output_type": "execute_result"
    }
   ],
   "source": [
    "fstat = f.stat()\n",
    "fstat"
   ]
  },
  {
   "cell_type": "code",
   "execution_count": 104,
   "metadata": {},
   "outputs": [
    {
     "data": {
      "text/plain": [
       "'Nov 01 17:56'"
      ]
     },
     "execution_count": 104,
     "metadata": {},
     "output_type": "execute_result"
    }
   ],
   "source": [
    "f.group()\n",
    "import time\n",
    "import datetime\n",
    "#readable = time.ctime(fstat.st_ctime)\n",
    "readable = datetime.datetime.fromtimestamp(1541109418)\n",
    "readable.strftime(\"%b %d %H:%M\")"
   ]
  },
  {
   "cell_type": "code",
   "execution_count": 14,
   "metadata": {},
   "outputs": [
    {
     "data": {
      "text/plain": [
       "'-rw-r--r--'"
      ]
     },
     "execution_count": 14,
     "metadata": {},
     "output_type": "execute_result"
    }
   ],
   "source": [
    "stat.filemode(mode)"
   ]
  },
  {
   "cell_type": "code",
   "execution_count": 48,
   "metadata": {
    "scrolled": true
   },
   "outputs": [
    {
     "name": "stdout",
     "output_type": "stream",
     "text": [
      "usage: ls [-l] [-h] [-a] [path [path ...]]\n",
      "\n",
      "positional arguments:\n",
      "  path\n",
      "\n",
      "optional arguments:\n",
      "  -l\n",
      "  -h\n",
      "  -a\n"
     ]
    }
   ],
   "source": [
    "import argparse\n",
    "import pathlib\n",
    "import stat\n",
    "import datetime\n",
    "import time\n",
    "parser = argparse.ArgumentParser(prog='ls',add_help=False)\n",
    "parser.add_argument('-l', dest='long_list', action='store_true')\n",
    "parser.add_argument('-h', dest='human', action='store_true')\n",
    "parser.add_argument('-a', dest='all', action='store_true')\n",
    "parser.add_argument('path', nargs=\"*\", default='.')\n",
    "args = parser.parse_args()\n",
    "\n",
    "def scan(path):\n",
    "    yield from (x for x in pathlib.Path(path).iterdir() if args.all or not x.name.startswith('.'))\n",
    "    \n",
    "#def timeformat(time_stamp):\n",
    "#    time_str = time.ctime(time_stamp)\n",
    "#    time_tuple = datetime.datetime.strptime(time_str, \"%a %b %d %X %Y\")\n",
    "#    return time_tuple.strftime(\"%b %d %H:%M\")\n",
    "\n",
    "def time_format(time_stamp):\n",
    "    readable = datetime.datetime.fromtimestamp(time_stamp)\n",
    "    return readable.strftime(\"%b %d %H:%M\")\n",
    "    \n",
    "\n",
    "def size_format(size):\n",
    "    if not args.human:\n",
    "        return size\n",
    "    unit = ['','K','M','G','T','P']\n",
    "    index = 0\n",
    "    while size > 1024:\n",
    "        size /= 1024\n",
    "        index +=1\n",
    "    return '{}{}'.format(round(size,1),unit[index])\n",
    "\n",
    "def format(item):\n",
    "    if not args.long_list:\n",
    "        return item.name\n",
    "    attr = {\n",
    "        'mode' : stat.filemode(item.stat().st_mode),\n",
    "        'node' : item.stat().st_nlink,\n",
    "        'owner' : item.owner(),\n",
    "        'group' : item.group(),\n",
    "        'size' : size_format(item.stat().st_size),\n",
    "        'time' : time_format(item.stat().st_ctime),\n",
    "        'name' : item.name,\n",
    "    }\n",
    "    return '{mode} {owner} {group} {size} {time} {name}'.format(**attr)\n",
    "\n",
    "def main():\n",
    "    if isinstance(args.path, list):\n",
    "        for path in args.path:\n",
    "            for items in scan(path): \n",
    "                print(format(items))\n",
    "    else:\n",
    "        for items in scan(args.path): \n",
    "            print(format(items))\n",
    "\n",
    "if __name__ == '__main__':\n",
    "    main()"
   ]
  },
  {
   "cell_type": "code",
   "execution_count": 107,
   "metadata": {},
   "outputs": [
    {
     "ename": "SyntaxError",
     "evalue": "invalid syntax (<ipython-input-107-c5f0984cf062>, line 21)",
     "output_type": "error",
     "traceback": [
      "\u001b[0;36m  File \u001b[0;32m\"<ipython-input-107-c5f0984cf062>\"\u001b[0;36m, line \u001b[0;32m21\u001b[0m\n\u001b[0;31m    print(items.)\u001b[0m\n\u001b[0m                ^\u001b[0m\n\u001b[0;31mSyntaxError\u001b[0m\u001b[0;31m:\u001b[0m invalid syntax\n"
     ]
    }
   ],
   "source": [
    "import argparse\n",
    "import pathlib\n",
    "import stat\n",
    "import datetime\n",
    "import time\n",
    "parser = argparse.ArgumentParser(prog='find',add_help=False)\n",
    "parser.add_argument('path')\n",
    "parser.add_argument('-name', dest='name', action='store_true')\n",
    "parser.add_argument('-exec', dest='executable', action='store_true')\n",
    "#parser.add_argument('-a', dest='all', action='store_true')\n",
    "\n",
    "args = parser.parse_args()\n",
    "\n",
    "def scan(path):\n",
    "    for item in pathlib.Path(path).iterdir():\n",
    "        if item.is_dir():\n",
    "            yield from scan(item)\n",
    "        yield item\n",
    "\n",
    "def main():\n",
    "    for items in scan(args.path):\n",
    "        if args.name:\n",
    "            if pathlib.PurePath(items).match(args.name):\n",
    "                print(items)\n",
    "\n",
    "if __name__ == '__main__':\n",
    "    main()"
   ]
  },
  {
   "cell_type": "code",
   "execution_count": 15,
   "metadata": {},
   "outputs": [],
   "source": [
    "import os, sys\n",
    "from stat import *\n",
    "mode = os.stat('./no_exit.txt').st_mode"
   ]
  },
  {
   "cell_type": "code",
   "execution_count": 17,
   "metadata": {},
   "outputs": [
    {
     "data": {
      "text/plain": [
       "True"
      ]
     },
     "execution_count": 17,
     "metadata": {},
     "output_type": "execute_result"
    }
   ],
   "source": [
    "stat.S_IXUSR & mode > 0"
   ]
  },
  {
   "cell_type": "code",
   "execution_count": 19,
   "metadata": {},
   "outputs": [
    {
     "data": {
      "text/plain": [
       "False"
      ]
     },
     "execution_count": 19,
     "metadata": {},
     "output_type": "execute_result"
    }
   ],
   "source": [
    "\"asdfasdf\" and False"
   ]
  },
  {
   "cell_type": "code",
   "execution_count": 20,
   "metadata": {},
   "outputs": [
    {
     "data": {
      "text/plain": [
       "False"
      ]
     },
     "execution_count": 20,
     "metadata": {},
     "output_type": "execute_result"
    }
   ],
   "source": [
    "True and False"
   ]
  },
  {
   "cell_type": "code",
   "execution_count": 21,
   "metadata": {},
   "outputs": [],
   "source": [
    "import shutil"
   ]
  },
  {
   "cell_type": "code",
   "execution_count": null,
   "metadata": {},
   "outputs": [],
   "source": []
  }
 ],
 "metadata": {
  "kernelspec": {
   "display_name": "Python 3",
   "language": "python",
   "name": "python3"
  },
  "language_info": {
   "codemirror_mode": {
    "name": "ipython",
    "version": 3
   },
   "file_extension": ".py",
   "mimetype": "text/x-python",
   "name": "python",
   "nbconvert_exporter": "python",
   "pygments_lexer": "ipython3",
   "version": "3.5.3"
  }
 },
 "nbformat": 4,
 "nbformat_minor": 2
}
