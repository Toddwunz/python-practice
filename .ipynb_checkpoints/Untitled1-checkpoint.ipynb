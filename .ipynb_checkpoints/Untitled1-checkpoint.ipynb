{
 "cells": [
  {
   "cell_type": "code",
   "execution_count": 1,
   "metadata": {},
   "outputs": [],
   "source": [
    "from requests import Session\n",
    "from m3u8 import loads\n",
    "import os\n",
    "from m3u8.model import SegmentList, Segment, find_key"
   ]
  },
  {
   "cell_type": "code",
   "execution_count": 2,
   "metadata": {},
   "outputs": [],
   "source": [
    "APPID = 'appc7XFLu4K9234'  # APPid\n",
    "XIAOEID = '4ed04efd1969357f144e2696012a8c35'  # Cookie XIAOEID\n",
    "RESOURCEID = 'p_5b6169c0f2fba_7eQqoOwG'  # ResourceID\n",
    "sessionid = 'eyJpdiI6Ik91NjVYb0ZPb2N2WmtUNUVHcTNLVEE9PSIsInZhbHVlIjoiNkpkTG1MdlVzZ0xSRjMzSk1mcldmVDJnbGp3cm1Xa1wvUlBXcnJXMEZ4aVpsemhvZ2ZpZHNFQk1ZM3FmVnJzejNDVDBCSnlRTDBQYXZsYkZPVGhVeHJnPT0iLCJtYWMiOiI1OWZmOGFiYmNhYmU1ODk1MWVmZDQxNGFkNDg0YzU2Y2MwNzA5NjIxMDRiNzRmYTI4NGJmNmVhNTIxMGUwYWEwIn0%3D'  # Cookie laravel_session\n",
    "session = Session()\n"
   ]
  },
  {
   "cell_type": "code",
   "execution_count": 22,
   "metadata": {},
   "outputs": [],
   "source": [
    "s = \"asdfadsfpoa\""
   ]
  },
  {
   "cell_type": "code",
   "execution_count": 29,
   "metadata": {},
   "outputs": [
    {
     "data": {
      "text/plain": [
       "'a'"
      ]
     },
     "execution_count": 29,
     "metadata": {},
     "output_type": "execute_result"
    }
   ],
   "source": [
    "s[0:1]"
   ]
  },
  {
   "cell_type": "code",
   "execution_count": 18,
   "metadata": {},
   "outputs": [
    {
     "data": {
      "text/plain": [
       "['a', 'd', 'a', 's', 'p']"
      ]
     },
     "execution_count": 18,
     "metadata": {},
     "output_type": "execute_result"
    }
   ],
   "source": [
    "ss[::2]"
   ]
  },
  {
   "cell_type": "code",
   "execution_count": 23,
   "metadata": {},
   "outputs": [],
   "source": [
    "if len(s) % 2 == 1:\n",
    "    s +='_'"
   ]
  },
  {
   "cell_type": "code",
   "execution_count": 30,
   "metadata": {},
   "outputs": [
    {
     "data": {
      "text/plain": [
       "['as', 'df', 'ad', 'sf', 'po', 'a_']"
      ]
     },
     "execution_count": 30,
     "metadata": {},
     "output_type": "execute_result"
    }
   ],
   "source": [
    "[s[i:i+2] for i in range(0,len(s),2)]"
   ]
  },
  {
   "cell_type": "code",
   "execution_count": 27,
   "metadata": {},
   "outputs": [
    {
     "data": {
      "text/plain": [
       "['a', 'd', 'a', 's', 'p', 'a']"
      ]
     },
     "execution_count": 27,
     "metadata": {},
     "output_type": "execute_result"
    }
   ],
   "source": [
    "aa"
   ]
  },
  {
   "cell_type": "code",
   "execution_count": 61,
   "metadata": {},
   "outputs": [],
   "source": [
    "def persistence(num):\n",
    "    lstnum = list(str(num))\n",
    "    global lst\n",
    "    if len(lstnum) > 1:     \n",
    "        result =1\n",
    "        for i in range(len(lstnum)):\n",
    "            result *=int(lstnum[i])\n",
    "        lst.append('a')\n",
    "        print(result,lstnum,lst)\n",
    "        persistence(result)\n",
    "    value = len(lst)\n",
    "    lst.clear()\n",
    "    print(value,lstnum,lst)\n",
    "    return value"
   ]
  },
  {
   "cell_type": "code",
   "execution_count": 62,
   "metadata": {},
   "outputs": [
    {
     "name": "stdout",
     "output_type": "stream",
     "text": [
      "27 ['3', '9'] ['a']\n",
      "14 ['2', '7'] ['a', 'a']\n",
      "4 ['1', '4'] ['a', 'a', 'a']\n",
      "3 ['4'] []\n",
      "0 ['1', '4'] []\n",
      "0 ['2', '7'] []\n",
      "0 ['3', '9'] []\n"
     ]
    },
    {
     "data": {
      "text/plain": [
       "0"
      ]
     },
     "execution_count": 62,
     "metadata": {},
     "output_type": "execute_result"
    }
   ],
   "source": [
    "persistence(39)"
   ]
  },
  {
   "cell_type": "code",
   "execution_count": 90,
   "metadata": {},
   "outputs": [],
   "source": [
    "def persistence(num):\n",
    "    lstnum = list(str(num))\n",
    "    if len(lstnum) == 1:\n",
    "        return 0\n",
    "    result = 1\n",
    "    for i in range(len(lstnum)):\n",
    "        result *=int(lstnum[i])\n",
    "    return persistence(result)+1"
   ]
  },
  {
   "cell_type": "code",
   "execution_count": 92,
   "metadata": {},
   "outputs": [
    {
     "data": {
      "text/plain": [
       "3"
      ]
     },
     "execution_count": 92,
     "metadata": {},
     "output_type": "execute_result"
    }
   ],
   "source": [
    "persistence(39)"
   ]
  },
  {
   "cell_type": "code",
   "execution_count": 46,
   "metadata": {},
   "outputs": [],
   "source": []
  },
  {
   "cell_type": "code",
   "execution_count": 305,
   "metadata": {},
   "outputs": [],
   "source": [
    "left_power = {'w':4,'p':3,'b':2,'s':1,'t':0}\n",
    "right_power= {'m':4,'q':3,'d':2,'z':1,'j':0}\n",
    "\n",
    "\n",
    "def alphabet_war(alpha):\n",
    "    new_alpha = ''\n",
    "    priest = 'tj'\n",
    "    for key,value in enumerate(alpha):\n",
    "        if len(alpha) == 1:\n",
    "            new_alpha += value\n",
    "            print('1',key,new_alpha)\n",
    "        if len(alpha) == 2:\n",
    "            print('2',key,new_alpha)\n",
    "            if key == 0 and alpha[key+1]in priest:\n",
    "                if value in priest:\n",
    "                    new_alpha += value\n",
    "                else:\n",
    "                    new_alpha += replace(value,alpha[key+1])\n",
    "                print('2-1',key,new_alpha)\n",
    "            elif key == 1 and alpha[key-1]in priest:\n",
    "                if value in priest:\n",
    "                    print(value)\n",
    "                    new_alpha += value\n",
    "                else:\n",
    "                    new_alpha += replace(value,alpha[key-1])\n",
    "                print('2-2',key,new_alpha)\n",
    "            else:\n",
    "                print('2-3',key,new_alpha,value)\n",
    "                new_alpha += value\n",
    "                print('2-4',key,new_alpha,value)\n",
    "        if len(alpha) > 2:\n",
    "            print('3-1',key,new_alpha)\n",
    "            if key == 0:\n",
    "                if alpha[key+1] in priest:\n",
    "                    new_alpha += replace(value,alpha[key+1])\n",
    "                else:\n",
    "                    new_alpha += value\n",
    "            elif key == len(alpha)-1:\n",
    "                if alpha[key-1] in priest:\n",
    "                    new_alpha += replace(value,alpha[key-1])\n",
    "                else:\n",
    "                    new_alpha += value\n",
    "                    print('3-2',key,new_alpha)\n",
    "            elif 0 < key < len(alpha)-1:\n",
    "                if alpha[key-1] in priest and alpha[key+1] in priest:\n",
    "                    new_alpha += value\n",
    "                elif alpha[key-1] in priest or alpha[key+1] in priest:\n",
    "                    if alpha[key-1] in priest:\n",
    "                        new_alpha += replace(value,alpha[key-1])\n",
    "                    elif alpha[key+1] in priest:\n",
    "                        print('ppp',key,new_alpha)\n",
    "                        new_alpha += replace(value,alpha[key+1])\n",
    "                else:\n",
    "                    new_alpha += value\n",
    "            else:\n",
    "                if alpha[key-1] in priest:\n",
    "                    new_alpha += replace(value,alpha[key-1])\n",
    "                else:\n",
    "                    new_alpha += value\n",
    "        print('end',key,new_alpha)\n",
    "            \n",
    "    left_point = 0\n",
    "    right_point = 0\n",
    "    print(new_alpha)\n",
    "    for i in new_alpha:\n",
    "        if i in left_power:\n",
    "            left_point += left_power.get(i)\n",
    "        if i in right_power:\n",
    "            right_point += right_power.get(i)      \n",
    "    if left_point > right_point:\n",
    "        win = 'Left side wins!'\n",
    "    elif left_point < right_point:\n",
    "        win = 'Right side wins!'\n",
    "    else:\n",
    "        win = \"Let's fight again!\" \n",
    "    return left_point,right_point,new_alpha,win\n",
    "\n",
    "def replace(a,b):\n",
    "    if a in 'tj':\n",
    "        return a\n",
    "    if a in right_power and b =='t':\n",
    "        num = right_power.get(a)\n",
    "        dic = left_power\n",
    "    elif a in left_power and b == 'j':\n",
    "        num = left_power.get(a)\n",
    "        dic = right_power\n",
    "    else:\n",
    "        return a\n",
    "    for k,v in dic.items():\n",
    "        if v == num:\n",
    "            return k"
   ]
  },
  {
   "cell_type": "code",
   "execution_count": 308,
   "metadata": {},
   "outputs": [
    {
     "name": "stdout",
     "output_type": "stream",
     "text": [
      "3-1 0 \n",
      "end 0 m\n",
      "3-1 1 m\n",
      "end 1 mp\n",
      "3-1 2 mp\n",
      "ppp 2 mp\n",
      "end 2 mpp\n",
      "3-1 3 mpp\n",
      "end 3 mppt\n",
      "3-1 4 mppt\n",
      "end 4 mpptz\n",
      "3-1 5 mpptz\n",
      "end 5 mpptzt\n",
      "3-1 6 mpptzt\n",
      "end 6 mpptztb\n",
      "3-1 7 mpptztb\n",
      "end 7 mpptztbd\n",
      "3-1 8 mpptztbd\n",
      "ppp 8 mpptztbd\n",
      "end 8 mpptztbds\n",
      "3-1 9 mpptztbds\n",
      "end 9 mpptztbdst\n",
      "3-1 10 mpptztbdst\n",
      "end 10 mpptztbdstf\n",
      "3-1 11 mpptztbdstf\n",
      "end 11 mpptztbdstfs\n",
      "3-1 12 mpptztbdstfs\n",
      "end 12 mpptztbdstfse\n",
      "3-1 13 mpptztbdstfse\n",
      "end 13 mpptztbdstfsec\n",
      "3-1 14 mpptztbdstfsec\n",
      "end 14 mpptztbdstfsecm\n",
      "3-1 15 mpptztbdstfsecm\n",
      "end 15 mpptztbdstfsecmc\n",
      "3-1 16 mpptztbdstfsecmc\n",
      "ppp 16 mpptztbdstfsecmc\n",
      "end 16 mpptztbdstfsecmcp\n",
      "3-1 17 mpptztbdstfsecmcp\n",
      "end 17 mpptztbdstfsecmcpt\n",
      "3-1 18 mpptztbdstfsecmcpt\n",
      "end 18 mpptztbdstfsecmcptz\n",
      "3-1 19 mpptztbdstfsecmcptz\n",
      "end 19 mpptztbdstfsecmcptzt\n",
      "3-1 20 mpptztbdstfsecmcptzt\n",
      "end 20 mpptztbdstfsecmcptztb\n",
      "3-1 21 mpptztbdstfsecmcptztb\n",
      "end 21 mpptztbdstfsecmcptztbm\n",
      "3-1 22 mpptztbdstfsecmcptztbm\n",
      "end 22 mpptztbdstfsecmcptztbmb\n",
      "3-1 23 mpptztbdstfsecmcptztbmb\n",
      "end 23 mpptztbdstfsecmcptztbmbb\n",
      "3-1 24 mpptztbdstfsecmcptztbmbb\n",
      "end 24 mpptztbdstfsecmcptztbmbbq\n",
      "3-1 25 mpptztbdstfsecmcptztbmbbq\n",
      "ppp 25 mpptztbdstfsecmcptztbmbbq\n",
      "end 25 mpptztbdstfsecmcptztbmbbqq\n",
      "3-1 26 mpptztbdstfsecmcptztbmbbqq\n",
      "3-2 26 mpptztbdstfsecmcptztbmbbqqj\n",
      "end 26 mpptztbdstfsecmcptztbmbbqqj\n",
      "mpptztbdstfsecmcptztbmbbqqj\n"
     ]
    },
    {
     "data": {
      "text/plain": [
       "(19, 22, 'mpptztbdstfsecmcptztbmbbqqj', 'Right side wins!')"
      ]
     },
     "execution_count": 308,
     "metadata": {},
     "output_type": "execute_result"
    }
   ],
   "source": [
    "alphabet_war('mpptztbdstfsecmcptztbmbbqqj')"
   ]
  },
  {
   "cell_type": "code",
   "execution_count": 307,
   "metadata": {},
   "outputs": [
    {
     "data": {
      "text/plain": [
       "'p'"
      ]
     },
     "execution_count": 307,
     "metadata": {},
     "output_type": "execute_result"
    }
   ],
   "source": [
    "def replace(a,b):\n",
    "    if a in 'tj':\n",
    "        return a\n",
    "    if a in right_power and b =='t':\n",
    "        num = right_power.get(a)\n",
    "        dic = left_power\n",
    "    elif a in left_power and b == 'j':\n",
    "        num = left_power.get(a)\n",
    "        dic = right_power\n",
    "    else:\n",
    "        return a\n",
    "    for k,v in dic.items():\n",
    "        if v == num:\n",
    "            return k\n",
    "        \n",
    "replace('p','t')"
   ]
  },
  {
   "cell_type": "code",
   "execution_count": 343,
   "metadata": {},
   "outputs": [
    {
     "data": {
      "text/plain": [
       "'0x10203'"
      ]
     },
     "execution_count": 343,
     "metadata": {},
     "output_type": "execute_result"
    }
   ],
   "source": [
    "hex(1*65536+2*256+3)"
   ]
  },
  {
   "cell_type": "code",
   "execution_count": 365,
   "metadata": {},
   "outputs": [],
   "source": [
    "def rgb(r, g, b):\n",
    "    lst = hex(value(r)*65536+value(g)*256+value(b))[2:]\n",
    "    while len(lst) < 6:\n",
    "        lst = '0'+ lst\n",
    "    return lst.upper()\n",
    "def value(num):\n",
    "    return max(min(num, 255), 0)"
   ]
  },
  {
   "cell_type": "code",
   "execution_count": 366,
   "metadata": {},
   "outputs": [
    {
     "data": {
      "text/plain": [
       "'FFFFFF'"
      ]
     },
     "execution_count": 366,
     "metadata": {},
     "output_type": "execute_result"
    }
   ],
   "source": [
    "rgb(255, 255, 300)"
   ]
  },
  {
   "cell_type": "code",
   "execution_count": 369,
   "metadata": {},
   "outputs": [
    {
     "data": {
      "text/plain": [
       "['app c7 XF', 'Lu4', '', 'K9234']"
      ]
     },
     "execution_count": 369,
     "metadata": {},
     "output_type": "execute_result"
    }
   ],
   "source": [
    "line = 'app c7 XF  Lu4    K9234'\n",
    "line.split('  ')"
   ]
  },
  {
   "cell_type": "code",
   "execution_count": 4,
   "metadata": {},
   "outputs": [],
   "source": [
    "l = [4,2,5,6,1,3,5,8,7,89,123,11,345,53,25,12]"
   ]
  },
  {
   "cell_type": "code",
   "execution_count": 5,
   "metadata": {},
   "outputs": [],
   "source": [
    "def sort(lst):\n",
    "    tlst = lst\n",
    "    for k1 in lst:\n",
    "        for i in range(len(lst)-1):\n",
    "            if tlst[i] > tlst[i+1]:\n",
    "                tlst[i],tlst[i+1] = tlst[i+1],tlst[i]\n",
    "    return tlst"
   ]
  },
  {
   "cell_type": "code",
   "execution_count": 6,
   "metadata": {},
   "outputs": [
    {
     "data": {
      "text/plain": [
       "[1, 2, 3, 4, 5, 5, 6, 7, 8, 11, 12, 25, 53, 89, 123, 345]"
      ]
     },
     "execution_count": 6,
     "metadata": {},
     "output_type": "execute_result"
    }
   ],
   "source": [
    "sort(l)"
   ]
  },
  {
   "cell_type": "code",
   "execution_count": null,
   "metadata": {},
   "outputs": [],
   "source": []
  }
 ],
 "metadata": {
  "kernelspec": {
   "display_name": "Python 3",
   "language": "python",
   "name": "python3"
  },
  "language_info": {
   "codemirror_mode": {
    "name": "ipython",
    "version": 3
   },
   "file_extension": ".py",
   "mimetype": "text/x-python",
   "name": "python",
   "nbconvert_exporter": "python",
   "pygments_lexer": "ipython3",
   "version": "3.6.8"
  }
 },
 "nbformat": 4,
 "nbformat_minor": 2
}
