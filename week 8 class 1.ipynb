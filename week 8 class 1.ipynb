{
 "cells": [
  {
   "cell_type": "code",
   "execution_count": 4,
   "metadata": {},
   "outputs": [],
   "source": [
    "from collections import namedtuple"
   ]
  },
  {
   "cell_type": "code",
   "execution_count": 18,
   "metadata": {},
   "outputs": [],
   "source": [
    "Heap = namedtuple('Heap',['add','pop'])  # 伪面向对象，\n",
    "def heap_factory():\n",
    "    data = []\n",
    "    def add(x):\n",
    "        data.append(x)\n",
    "        print(data)\n",
    "    def pop():\n",
    "        return data.pop()\n",
    "    return Heap(add,pop)"
   ]
  },
  {
   "cell_type": "code",
   "execution_count": 12,
   "metadata": {},
   "outputs": [],
   "source": [
    "heap = heap_factory()"
   ]
  },
  {
   "cell_type": "code",
   "execution_count": 24,
   "metadata": {},
   "outputs": [
    {
     "name": "stdout",
     "output_type": "stream",
     "text": [
      "[5, 2]\n"
     ]
    }
   ],
   "source": [
    "heap.add(2)"
   ]
  },
  {
   "cell_type": "code",
   "execution_count": 23,
   "metadata": {},
   "outputs": [
    {
     "name": "stdout",
     "output_type": "stream",
     "text": [
      "[5]\n"
     ]
    }
   ],
   "source": [
    "heap.add(5)"
   ]
  },
  {
   "cell_type": "code",
   "execution_count": 31,
   "metadata": {},
   "outputs": [],
   "source": [
    "class Heap:\n",
    "    def __init__(self): # 通常叫构造函数，在python中更多的叫初始化函数，它在对象创建完成后会立刻执行，现阶段理解为对象执行的第一个方法\n",
    "        self.data = []\n",
    "        \n",
    "    def add(self,x): # 第一个参数必须是self，其他参数和函数定义一样，self 代表对象的一个实例\n",
    "        pass\n",
    "    \n",
    "    def pop(self):\n",
    "        pass"
   ]
  },
  {
   "cell_type": "markdown",
   "metadata": {},
   "source": [
    "** 对象：**\n",
    "* 类 代表一类对象，可以实例化成实例\n",
    "* 实例 实例死由类实例化来的\n",
    "* 所有类，都是type的或者type的子类的实例"
   ]
  },
  {
   "cell_type": "code",
   "execution_count": 42,
   "metadata": {},
   "outputs": [],
   "source": [
    "class Door:\n",
    "#    def __new__(cls): #创建实例的方法\n",
    "#        pass #可以改变实例创建的行为，这就是元编程的体现\n",
    "    def __init__(self,number,status): # 对实例做初始化工作\n",
    "        self.number = number  #实例变量\n",
    "        self.status = status\n",
    "        \n",
    "    def open(self):\n",
    "        self.status = 'openning'\n",
    "    \n",
    "    def close(self):\n",
    "        self.status = 'closed'"
   ]
  },
  {
   "cell_type": "code",
   "execution_count": 43,
   "metadata": {},
   "outputs": [],
   "source": [
    "door = Door(1,'closed')"
   ]
  },
  {
   "cell_type": "markdown",
   "metadata": {},
   "source": [
    "* 看起来非常像一个函数调用\n",
    "* 事实上，确实发生了一些函数调用\n",
    "* 它调用了 `__init__` 函数，第一个参数由解释器自动传入\n",
    "* 第一个参数表示的是实例本身，通常命名为self\n",
    "## 通常不写 `__new__` 方法，除非需要改变默认的创建实例的行为"
   ]
  },
  {
   "cell_type": "code",
   "execution_count": 3,
   "metadata": {},
   "outputs": [],
   "source": [
    "class A:\n",
    "    NAME = 'E' #类的直接下级作用域，叫做类变量\n",
    "    def __init__(self,*args,**kwargs):\n",
    "        self.args = args  #关联到实例的变量，叫做实例变量\n",
    "        self.kwargs = kwargs"
   ]
  },
  {
   "cell_type": "code",
   "execution_count": 4,
   "metadata": {},
   "outputs": [],
   "source": [
    "a = A(1,2,3,a=1,b=2) # 实例化的时候，传递的参数列表是 __init__方法除第一个参数职位的所有参数，支持函数的所有参数变化"
   ]
  },
  {
   "cell_type": "code",
   "execution_count": 6,
   "metadata": {},
   "outputs": [
    {
     "data": {
      "text/plain": [
       "'E'"
      ]
     },
     "execution_count": 6,
     "metadata": {},
     "output_type": "execute_result"
    }
   ],
   "source": [
    "a.NAME"
   ]
  },
  {
   "cell_type": "code",
   "execution_count": 47,
   "metadata": {},
   "outputs": [
    {
     "data": {
      "text/plain": [
       "(1, 2, 3)"
      ]
     },
     "execution_count": 47,
     "metadata": {},
     "output_type": "execute_result"
    }
   ],
   "source": [
    "a.args"
   ]
  },
  {
   "cell_type": "code",
   "execution_count": 48,
   "metadata": {},
   "outputs": [
    {
     "data": {
      "text/plain": [
       "{'a': 1, 'b': 2}"
      ]
     },
     "execution_count": 48,
     "metadata": {},
     "output_type": "execute_result"
    }
   ],
   "source": [
    "a.kwargs"
   ]
  },
  {
   "cell_type": "code",
   "execution_count": 8,
   "metadata": {},
   "outputs": [
    {
     "ename": "AttributeError",
     "evalue": "type object 'A' has no attribute 'args'",
     "output_type": "error",
     "traceback": [
      "\u001b[0;31m---------------------------------------------------------------------------\u001b[0m",
      "\u001b[0;31mAttributeError\u001b[0m                            Traceback (most recent call last)",
      "\u001b[0;32m<ipython-input-8-adc6d366dde0>\u001b[0m in \u001b[0;36m<module>\u001b[0;34m()\u001b[0m\n\u001b[0;32m----> 1\u001b[0;31m \u001b[0mA\u001b[0m\u001b[0;34m.\u001b[0m\u001b[0margs\u001b[0m\u001b[0;34m\u001b[0m\u001b[0m\n\u001b[0m",
      "\u001b[0;31mAttributeError\u001b[0m: type object 'A' has no attribute 'args'"
     ]
    }
   ],
   "source": [
    "A.args"
   ]
  },
  {
   "cell_type": "code",
   "execution_count": 7,
   "metadata": {},
   "outputs": [
    {
     "data": {
      "text/plain": [
       "'E'"
      ]
     },
     "execution_count": 7,
     "metadata": {},
     "output_type": "execute_result"
    }
   ],
   "source": [
    "A.NAME"
   ]
  },
  {
   "cell_type": "markdown",
   "metadata": {},
   "source": [
    "类在实例化后，实例可以通过点操作来访问实例的属性或者调用实例的方法\n",
    "\n",
    "当没有显示定义 `__init__` 方法的时候，会使用默认的 init 方法：\n",
    "``` python \n",
    "def __init__(self):\n",
    "    pass\n",
    "```\n",
    "\n",
    "** 作用域 **\n",
    "* 类变量对类和对象都可见\n",
    "* 实例变量只对实例化后的对象可见\n",
    "* 所有实例共享类变量"
   ]
  },
  {
   "cell_type": "code",
   "execution_count": 10,
   "metadata": {},
   "outputs": [
    {
     "data": {
      "text/plain": [
       "140502067301376"
      ]
     },
     "execution_count": 10,
     "metadata": {},
     "output_type": "execute_result"
    }
   ],
   "source": [
    "id(a.NAME)"
   ]
  },
  {
   "cell_type": "code",
   "execution_count": 17,
   "metadata": {},
   "outputs": [],
   "source": [
    "a.NAME = 'EE' #python中赋值即创建，这里创建了一个实例的NAME 变量替换了类变量，可以发现变量地址已经改变"
   ]
  },
  {
   "cell_type": "code",
   "execution_count": 12,
   "metadata": {},
   "outputs": [
    {
     "data": {
      "text/plain": [
       "140501740205872"
      ]
     },
     "execution_count": 12,
     "metadata": {},
     "output_type": "execute_result"
    }
   ],
   "source": [
    "id(a.NAME)"
   ]
  },
  {
   "cell_type": "code",
   "execution_count": 13,
   "metadata": {},
   "outputs": [],
   "source": [
    "A.NAME = 'HAHA' "
   ]
  },
  {
   "cell_type": "code",
   "execution_count": 14,
   "metadata": {},
   "outputs": [
    {
     "data": {
      "text/plain": [
       "'EE'"
      ]
     },
     "execution_count": 14,
     "metadata": {},
     "output_type": "execute_result"
    }
   ],
   "source": [
    "a.NAME"
   ]
  },
  {
   "cell_type": "code",
   "execution_count": 23,
   "metadata": {},
   "outputs": [
    {
     "name": "stdout",
     "output_type": "stream",
     "text": [
      "140501740206824 140501740206824 140501740205872\n"
     ]
    },
    {
     "data": {
      "text/plain": [
       "'HAHA'"
      ]
     },
     "execution_count": 23,
     "metadata": {},
     "output_type": "execute_result"
    }
   ],
   "source": [
    "print(id(a.__class__.NAME),id(A.NAME),id(a.NAME))\n",
    "a.__class__.NAME"
   ]
  },
  {
   "cell_type": "markdown",
   "metadata": {},
   "source": [
    "** 类属性的查找顺序 **\n",
    "* `__dict__`\n",
    "* `__class__`"
   ]
  },
  {
   "cell_type": "code",
   "execution_count": 15,
   "metadata": {},
   "outputs": [],
   "source": [
    "b = A()"
   ]
  },
  {
   "cell_type": "code",
   "execution_count": 16,
   "metadata": {},
   "outputs": [
    {
     "data": {
      "text/plain": [
       "'HAHA'"
      ]
     },
     "execution_count": 16,
     "metadata": {},
     "output_type": "execute_result"
    }
   ],
   "source": [
    "b.NAME"
   ]
  },
  {
   "cell_type": "code",
   "execution_count": 24,
   "metadata": {},
   "outputs": [],
   "source": [
    "A.NAME = 'HEHE'"
   ]
  },
  {
   "cell_type": "code",
   "execution_count": 25,
   "metadata": {},
   "outputs": [
    {
     "name": "stdout",
     "output_type": "stream",
     "text": [
      "140501739727704 140501739727704 140501740205872\n"
     ]
    }
   ],
   "source": [
    "print(id(a.__class__.NAME),id(A.NAME),id(a.NAME))"
   ]
  },
  {
   "cell_type": "markdown",
   "metadata": {},
   "source": [
    "## 类装饰器"
   ]
  },
  {
   "cell_type": "code",
   "execution_count": 27,
   "metadata": {},
   "outputs": [],
   "source": [
    "def set_name(name):\n",
    "    def warp(cls):\n",
    "        cls.NAME = name\n",
    "        return cls\n",
    "    return warp"
   ]
  },
  {
   "cell_type": "code",
   "execution_count": 31,
   "metadata": {},
   "outputs": [],
   "source": [
    "@set_name('GGGG')\n",
    "class G:\n",
    "    pass"
   ]
  },
  {
   "cell_type": "code",
   "execution_count": 32,
   "metadata": {},
   "outputs": [
    {
     "data": {
      "text/plain": [
       "'GGGG'"
      ]
     },
     "execution_count": 32,
     "metadata": {},
     "output_type": "execute_result"
    }
   ],
   "source": [
    "G.NAME"
   ]
  },
  {
   "cell_type": "code",
   "execution_count": 24,
   "metadata": {},
   "outputs": [],
   "source": [
    "def set_fun(cls):\n",
    "    def add(x,y):\n",
    "        return x + y\n",
    "    cls.ADD = add\n",
    "    return cls"
   ]
  },
  {
   "cell_type": "code",
   "execution_count": 25,
   "metadata": {},
   "outputs": [],
   "source": [
    "@set_fun\n",
    "class G:\n",
    "    pass"
   ]
  },
  {
   "cell_type": "code",
   "execution_count": 26,
   "metadata": {},
   "outputs": [
    {
     "data": {
      "text/plain": [
       "5"
      ]
     },
     "execution_count": 26,
     "metadata": {},
     "output_type": "execute_result"
    }
   ],
   "source": [
    "G.ADD(2,3)"
   ]
  },
  {
   "cell_type": "markdown",
   "metadata": {},
   "source": [
    "## 类方法：\n",
    "* 方法的定义都是基于类级别的，但有的方法不需要实例化就可以使用，但有的方法必须实例化才可以使用\n",
    "* 无需实例化既可以执行的方法叫类方法"
   ]
  },
  {
   "cell_type": "code",
   "execution_count": 41,
   "metadata": {},
   "outputs": [],
   "source": [
    "class I:\n",
    "    def print(self): #实例化时，会自动传递实例本身作为self参数\n",
    "        print('this is a instance method')\n",
    "    @classmethod   # 当一个方法被装饰器classmethod装饰后，第一个参数会变为类本身\n",
    "    def cls_print(cls):\n",
    "        print('this is a class method')\n",
    "    @staticmethod # 当一个方法被它装饰后，实例化时不会自动传递第一个参数，这个叫静态方法\n",
    "    def static_print():\n",
    "        print('stat ic method')\n",
    "    def xxx_print(): # 类方法，实例不能访问\n",
    "        print('xxx method')\n",
    "    "
   ]
  },
  {
   "cell_type": "code",
   "execution_count": 43,
   "metadata": {},
   "outputs": [],
   "source": [
    "i = I()"
   ]
  },
  {
   "cell_type": "code",
   "execution_count": 44,
   "metadata": {},
   "outputs": [
    {
     "name": "stdout",
     "output_type": "stream",
     "text": [
      "this is a instance method\n"
     ]
    }
   ],
   "source": [
    "i.print()"
   ]
  },
  {
   "cell_type": "code",
   "execution_count": 45,
   "metadata": {},
   "outputs": [
    {
     "ename": "TypeError",
     "evalue": "print() missing 1 required positional argument: 'self'",
     "output_type": "error",
     "traceback": [
      "\u001b[0;31m---------------------------------------------------------------------------\u001b[0m",
      "\u001b[0;31mTypeError\u001b[0m                                 Traceback (most recent call last)",
      "\u001b[0;32m<ipython-input-45-f58fd563c7cf>\u001b[0m in \u001b[0;36m<module>\u001b[0;34m()\u001b[0m\n\u001b[0;32m----> 1\u001b[0;31m \u001b[0mI\u001b[0m\u001b[0;34m.\u001b[0m\u001b[0mprint\u001b[0m\u001b[0;34m(\u001b[0m\u001b[0;34m)\u001b[0m\u001b[0;34m\u001b[0m\u001b[0m\n\u001b[0m",
      "\u001b[0;31mTypeError\u001b[0m: print() missing 1 required positional argument: 'self'"
     ]
    }
   ],
   "source": [
    "I.print()"
   ]
  },
  {
   "cell_type": "code",
   "execution_count": 46,
   "metadata": {},
   "outputs": [
    {
     "name": "stdout",
     "output_type": "stream",
     "text": [
      "this is a class method\n"
     ]
    }
   ],
   "source": [
    "I.cls_print()"
   ]
  },
  {
   "cell_type": "code",
   "execution_count": 47,
   "metadata": {},
   "outputs": [
    {
     "name": "stdout",
     "output_type": "stream",
     "text": [
      "static method\n"
     ]
    }
   ],
   "source": [
    "I.static_print()"
   ]
  },
  {
   "cell_type": "code",
   "execution_count": 48,
   "metadata": {},
   "outputs": [
    {
     "name": "stdout",
     "output_type": "stream",
     "text": [
      "static method\n"
     ]
    }
   ],
   "source": [
    "i.static_print()"
   ]
  },
  {
   "cell_type": "code",
   "execution_count": 49,
   "metadata": {},
   "outputs": [
    {
     "ename": "TypeError",
     "evalue": "xxx_print() takes 0 positional arguments but 1 was given",
     "output_type": "error",
     "traceback": [
      "\u001b[0;31m---------------------------------------------------------------------------\u001b[0m",
      "\u001b[0;31mTypeError\u001b[0m                                 Traceback (most recent call last)",
      "\u001b[0;32m<ipython-input-49-de3b0413268c>\u001b[0m in \u001b[0;36m<module>\u001b[0;34m()\u001b[0m\n\u001b[0;32m----> 1\u001b[0;31m \u001b[0mi\u001b[0m\u001b[0;34m.\u001b[0m\u001b[0mxxx_print\u001b[0m\u001b[0;34m(\u001b[0m\u001b[0;34m)\u001b[0m\u001b[0;34m\u001b[0m\u001b[0m\n\u001b[0m",
      "\u001b[0;31mTypeError\u001b[0m: xxx_print() takes 0 positional arguments but 1 was given"
     ]
    }
   ],
   "source": [
    "i.xxx_print()"
   ]
  },
  {
   "cell_type": "code",
   "execution_count": 75,
   "metadata": {},
   "outputs": [
    {
     "name": "stdout",
     "output_type": "stream",
     "text": [
      "xxx method\n"
     ]
    }
   ],
   "source": [
    "I.xxx_print() #类方法只能通过类直接访问"
   ]
  },
  {
   "cell_type": "code",
   "execution_count": 111,
   "metadata": {},
   "outputs": [],
   "source": [
    "class DOOR:\n",
    "    def __init__(self,number,status): # 类的初始化函数\n",
    "        self.number = number #类属性\n",
    "        self.__status = status #所有双下划线开始，非双下划线结尾的成员都是私有成员。外部无法直接访问\n",
    "        \n",
    "    def open(self): #类方法\n",
    "        self.__status = 'opening'\n",
    "        \n",
    "    def close(self):\n",
    "        self.__status = 'closed'\n",
    "        \n",
    "    def status(self):\n",
    "        return print('door{} is {}'.format(self.number,self.__status))\n",
    "    \n",
    "    def __set_number(self,number): #私有方法\n",
    "        self.number = number"
   ]
  },
  {
   "cell_type": "code",
   "execution_count": 112,
   "metadata": {},
   "outputs": [],
   "source": [
    "door1 = DOOR(1,'opening')\n",
    "door12 = DOOR(12,'unknown')"
   ]
  },
  {
   "cell_type": "code",
   "execution_count": 113,
   "metadata": {},
   "outputs": [
    {
     "name": "stdout",
     "output_type": "stream",
     "text": [
      "door1 is opening\n",
      "door12 is unknown\n"
     ]
    }
   ],
   "source": [
    "door1.status()\n",
    "door12.status()"
   ]
  },
  {
   "cell_type": "code",
   "execution_count": 94,
   "metadata": {},
   "outputs": [],
   "source": [
    "door1.number = 2 # 非私有属性通过实例直接访问被修改\n",
    "door1.__status = 'closed' # 私有属性，通过实例直接访问并没有被修改实例的__status, "
   ]
  },
  {
   "cell_type": "code",
   "execution_count": 95,
   "metadata": {},
   "outputs": [
    {
     "name": "stdout",
     "output_type": "stream",
     "text": [
      "door2 is opening\n",
      "door12 is unknown\n"
     ]
    }
   ],
   "source": [
    "door1.status()\n",
    "door12.status()"
   ]
  },
  {
   "cell_type": "code",
   "execution_count": 96,
   "metadata": {},
   "outputs": [
    {
     "data": {
      "text/plain": [
       "'closed'"
      ]
     },
     "execution_count": 96,
     "metadata": {},
     "output_type": "execute_result"
    }
   ],
   "source": [
    "door1.__status #但由于python的特性，这里临时创建了一个动态的__status的属性，直接访问的并不是真正的实例属性。编程时需要小心"
   ]
  },
  {
   "cell_type": "code",
   "execution_count": 84,
   "metadata": {},
   "outputs": [
    {
     "data": {
      "text/plain": [
       "'opening'"
      ]
     },
     "execution_count": 84,
     "metadata": {},
     "output_type": "execute_result"
    }
   ],
   "source": [
    "door1._DOOR__status # python 提供了一个黑魔法来直接访问类的私有成员，实际上是因为python的私有成员是通过改名实现的"
   ]
  },
  {
   "cell_type": "code",
   "execution_count": 73,
   "metadata": {},
   "outputs": [
    {
     "name": "stdout",
     "output_type": "stream",
     "text": [
      "door2 is closed\n"
     ]
    }
   ],
   "source": [
    "door1.close()\n",
    "door1.status()"
   ]
  },
  {
   "cell_type": "code",
   "execution_count": 74,
   "metadata": {},
   "outputs": [
    {
     "name": "stdout",
     "output_type": "stream",
     "text": [
      "door12 is opening\n"
     ]
    }
   ],
   "source": [
    "door12.open()\n",
    "door12.status()"
   ]
  },
  {
   "cell_type": "code",
   "execution_count": 85,
   "metadata": {},
   "outputs": [
    {
     "ename": "AttributeError",
     "evalue": "'DOOR' object has no attribute '__set_number'",
     "output_type": "error",
     "traceback": [
      "\u001b[0;31m---------------------------------------------------------------------------\u001b[0m",
      "\u001b[0;31mAttributeError\u001b[0m                            Traceback (most recent call last)",
      "\u001b[0;32m<ipython-input-85-5fadaa9b2805>\u001b[0m in \u001b[0;36m<module>\u001b[0;34m()\u001b[0m\n\u001b[0;32m----> 1\u001b[0;31m \u001b[0mdoor12\u001b[0m\u001b[0;34m.\u001b[0m\u001b[0m__set_number\u001b[0m\u001b[0;34m(\u001b[0m\u001b[0;36m21\u001b[0m\u001b[0;34m)\u001b[0m\u001b[0;34m\u001b[0m\u001b[0m\n\u001b[0m",
      "\u001b[0;31mAttributeError\u001b[0m: 'DOOR' object has no attribute '__set_number'"
     ]
    }
   ],
   "source": [
    "door12.__set_number(21)"
   ]
  },
  {
   "cell_type": "code",
   "execution_count": 86,
   "metadata": {},
   "outputs": [],
   "source": [
    "door12._DOOR__set_number(21)"
   ]
  },
  {
   "cell_type": "code",
   "execution_count": 87,
   "metadata": {},
   "outputs": [
    {
     "name": "stdout",
     "output_type": "stream",
     "text": [
      "door21 is unknown\n"
     ]
    }
   ],
   "source": [
    "door12.status()"
   ]
  },
  {
   "cell_type": "code",
   "execution_count": 88,
   "metadata": {},
   "outputs": [],
   "source": [
    "door12._DOOR__status = 'closed'"
   ]
  },
  {
   "cell_type": "code",
   "execution_count": 89,
   "metadata": {},
   "outputs": [
    {
     "name": "stdout",
     "output_type": "stream",
     "text": [
      "door21 is closed\n"
     ]
    }
   ],
   "source": [
    "door12.status()"
   ]
  },
  {
   "cell_type": "markdown",
   "metadata": {},
   "source": [
    "## 因此严格的说，python里没有真正的私有成员\n",
    "除非真的有必要，并且清楚明白的知道后果是什么，否则不要用这个黑魔法"
   ]
  },
  {
   "cell_type": "code",
   "execution_count": 97,
   "metadata": {},
   "outputs": [],
   "source": [
    "class J:\n",
    "    def __init__(self):\n",
    "        self._a = 3"
   ]
  },
  {
   "cell_type": "code",
   "execution_count": 98,
   "metadata": {},
   "outputs": [],
   "source": [
    "j = J()"
   ]
  },
  {
   "cell_type": "code",
   "execution_count": 99,
   "metadata": {},
   "outputs": [
    {
     "data": {
      "text/plain": [
       "3"
      ]
     },
     "execution_count": 99,
     "metadata": {},
     "output_type": "execute_result"
    }
   ],
   "source": [
    "j._a"
   ]
  },
  {
   "cell_type": "code",
   "execution_count": 100,
   "metadata": {},
   "outputs": [],
   "source": [
    "j._a = 2"
   ]
  },
  {
   "cell_type": "code",
   "execution_count": 101,
   "metadata": {},
   "outputs": [
    {
     "data": {
      "text/plain": [
       "2"
      ]
     },
     "execution_count": 101,
     "metadata": {},
     "output_type": "execute_result"
    }
   ],
   "source": [
    "j._a"
   ]
  },
  {
   "cell_type": "code",
   "execution_count": 102,
   "metadata": {},
   "outputs": [
    {
     "data": {
      "text/plain": [
       "{'_a': 2}"
      ]
     },
     "execution_count": 102,
     "metadata": {},
     "output_type": "execute_result"
    }
   ],
   "source": [
    "j.__dict__"
   ]
  },
  {
   "cell_type": "markdown",
   "metadata": {},
   "source": [
    "# 单下划线是一种惯用法，标记此成员为私有，但解释器并不做任何处理"
   ]
  },
  {
   "cell_type": "code",
   "execution_count": 154,
   "metadata": {},
   "outputs": [
    {
     "ename": "SyntaxError",
     "evalue": "lambda cannot contain assignment (<ipython-input-154-e9c3bbaf2811>, line 32)",
     "output_type": "error",
     "traceback": [
      "\u001b[0;36m  File \u001b[0;32m\"<ipython-input-154-e9c3bbaf2811>\"\u001b[0;36m, line \u001b[0;32m32\u001b[0m\n\u001b[0;31m    number = property(lambda self: self.__number, lambda self, value: self.__number = value, lambda self:print(\"can't remove number\"))\u001b[0m\n\u001b[0m                                                 ^\u001b[0m\n\u001b[0;31mSyntaxError\u001b[0m\u001b[0;31m:\u001b[0m lambda cannot contain assignment\n"
     ]
    }
   ],
   "source": [
    "class DOOR2:\n",
    "    def __init__(self,number,status): # 类的初始化函数\n",
    "        self.__number = number #类属性\n",
    "        self.__status = status #所有双下划线开始，非双下划线结尾的成员都是私有成员。外部无法直接访问\n",
    "        \n",
    "    def open(self): #类方法\n",
    "        self.__status = 'opening'\n",
    "        \n",
    "    def close(self):\n",
    "        self.__status = 'closed'\n",
    "        \n",
    "    @property     #property 装饰器会把一个仅有self参数的函数变成一个属性，属性的值为方法的返回值    \n",
    "    def status(self):\n",
    "        return print('door{} is {}'.format(self.number,self.__status))\n",
    "    \n",
    "    def __set_number(self,number): #私有方法\n",
    "        self.number = number\n",
    "        \n",
    "#     @property    \n",
    "#     def number(self): #私有方法\n",
    "#         return self.__number\n",
    "    \n",
    "#     @number.setter # property setter 装饰器，可以把一个方法转化为对此赋值，但有一定要求：1.同名 2.必须接收2个参数self和value\n",
    "#                    #value 为所赋的值\n",
    "#     def number(self,number):\n",
    "#         if isinstance(number,int) and number > 0 and number <1000:\n",
    "#             self.__number = number\n",
    "            \n",
    "#     @number.deleter\n",
    "#     def number(self):\n",
    "#         print(\"can't remove number\")\n",
    "    number = property(lambda self: self.__number, lambda self, value: self.__number = value, lambda self:print(\"can't remove number\")) "
   ]
  },
  {
   "cell_type": "code",
   "execution_count": 141,
   "metadata": {},
   "outputs": [],
   "source": [
    "door11 = DOOR2(1212,'opening')"
   ]
  },
  {
   "cell_type": "code",
   "execution_count": 142,
   "metadata": {},
   "outputs": [
    {
     "data": {
      "text/plain": [
       "1212"
      ]
     },
     "execution_count": 142,
     "metadata": {},
     "output_type": "execute_result"
    }
   ],
   "source": [
    "door11.number"
   ]
  },
  {
   "cell_type": "code",
   "execution_count": 143,
   "metadata": {},
   "outputs": [],
   "source": [
    "door11.number = 123"
   ]
  },
  {
   "cell_type": "code",
   "execution_count": 144,
   "metadata": {},
   "outputs": [
    {
     "data": {
      "text/plain": [
       "123"
      ]
     },
     "execution_count": 144,
     "metadata": {},
     "output_type": "execute_result"
    }
   ],
   "source": [
    "door11.number"
   ]
  },
  {
   "cell_type": "code",
   "execution_count": 146,
   "metadata": {},
   "outputs": [
    {
     "name": "stdout",
     "output_type": "stream",
     "text": [
      "can't remove number\n"
     ]
    }
   ],
   "source": [
    "del door11.number # del可以动态的删除一个实例的属性，但不能删除方法"
   ]
  },
  {
   "cell_type": "code",
   "execution_count": 147,
   "metadata": {},
   "outputs": [
    {
     "name": "stdout",
     "output_type": "stream",
     "text": [
      "door123 is opening\n"
     ]
    }
   ],
   "source": [
    "door11.status"
   ]
  },
  {
   "cell_type": "markdown",
   "metadata": {},
   "source": [
    "## 类的继承:\n",
    "* 凡是公有的都能继承\n",
    "* 凡是私有的都不能继承\n",
    "* 原来是什么,继承过来还是什么"
   ]
  },
  {
   "cell_type": "code",
   "execution_count": 60,
   "metadata": {},
   "outputs": [],
   "source": [
    "class Base(object):\n",
    "    def method_print(self):\n",
    "        print('Base method print')\n",
    "        \n",
    "    @classmethod\n",
    "    def cls_print(cls):\n",
    "        print('Base class print')"
   ]
  },
  {
   "cell_type": "code",
   "execution_count": 92,
   "metadata": {},
   "outputs": [],
   "source": [
    "class sub(Base):\n",
    "    def method_print(self):\n",
    "        print('sub method print')\n",
    "        \n",
    "    def foo(self):\n",
    "        self.method_print()\n",
    "        Base().method_print()\n",
    "        super().method_print()\n",
    "        super(sub,sub).cls_print()\n",
    "        \n",
    "    @classmethod\n",
    "    def cls_print(cls):\n",
    "        print('sub class print')\n",
    "        \n",
    "    @classmethod\n",
    "    def cls_foo(cls):\n",
    "        super().cls_print()\n",
    "        cls.cls_print()"
   ]
  },
  {
   "cell_type": "code",
   "execution_count": 93,
   "metadata": {},
   "outputs": [
    {
     "name": "stdout",
     "output_type": "stream",
     "text": [
      "sub method print\n",
      "Base method print\n",
      "Base method print\n",
      "Base class print\n"
     ]
    }
   ],
   "source": [
    "sub().foo()"
   ]
  },
  {
   "cell_type": "code",
   "execution_count": 94,
   "metadata": {},
   "outputs": [
    {
     "name": "stdout",
     "output_type": "stream",
     "text": [
      "Base class print\n",
      "sub class print\n"
     ]
    }
   ],
   "source": [
    "sub.cls_foo()"
   ]
  },
  {
   "cell_type": "code",
   "execution_count": 101,
   "metadata": {},
   "outputs": [],
   "source": [
    "class subsub(sub):\n",
    "    def method_print(self):\n",
    "        print('subsub method print')\n",
    "        \n",
    "    def foo(self):\n",
    "        self.method_print()\n",
    "        Base().method_print()\n",
    "        super().method_print()\n",
    "        super(subsub,subsub).cls_print()\n",
    "        \n",
    "    @classmethod\n",
    "    def cls_print(cls):\n",
    "        print('subsub class print')\n",
    "        \n",
    "    @classmethod\n",
    "    def cls_foo(cls):\n",
    "        super().cls_print()\n",
    "        cls.cls_print()"
   ]
  },
  {
   "cell_type": "code",
   "execution_count": 102,
   "metadata": {},
   "outputs": [
    {
     "name": "stdout",
     "output_type": "stream",
     "text": [
      "subsub method print\n",
      "Base method print\n",
      "sub method print\n",
      "sub class print\n"
     ]
    }
   ],
   "source": [
    "subsub().foo()"
   ]
  },
  {
   "cell_type": "markdown",
   "metadata": {},
   "source": [
    "### 当父类含有一个带参数的初始化方法的时候,子类一定需要一个初始化方法,并且在初始化方法中调用父类的初始化方法"
   ]
  },
  {
   "cell_type": "code",
   "execution_count": 106,
   "metadata": {},
   "outputs": [],
   "source": [
    "class ABase:\n",
    "    def __init__(self,a,b):\n",
    "        self.__a = a\n",
    "        self.__b = b\n",
    "    \n",
    "    def sum(self):\n",
    "        return self.__a + self.__b"
   ]
  },
  {
   "cell_type": "code",
   "execution_count": 114,
   "metadata": {},
   "outputs": [],
   "source": [
    "class ASub(ABase):\n",
    "    def __init__(self,a,b,c):\n",
    "        self.c = c\n",
    "        self.__a = a\n",
    "        self.__b = b"
   ]
  },
  {
   "cell_type": "code",
   "execution_count": 115,
   "metadata": {},
   "outputs": [],
   "source": [
    "sub = ASub(1,2,3)"
   ]
  },
  {
   "cell_type": "code",
   "execution_count": 117,
   "metadata": {},
   "outputs": [
    {
     "ename": "AttributeError",
     "evalue": "'ASub' object has no attribute '_ABase__a'",
     "output_type": "error",
     "traceback": [
      "\u001b[0;31m---------------------------------------------------------------------------\u001b[0m",
      "\u001b[0;31mAttributeError\u001b[0m                            Traceback (most recent call last)",
      "\u001b[0;32m<ipython-input-117-372cf9e047c6>\u001b[0m in \u001b[0;36m<module>\u001b[0;34m()\u001b[0m\n\u001b[0;32m----> 1\u001b[0;31m \u001b[0msub\u001b[0m\u001b[0;34m.\u001b[0m\u001b[0msum\u001b[0m\u001b[0;34m(\u001b[0m\u001b[0;34m)\u001b[0m \u001b[0;31m# 子类无法直接访问父类私有属性,所以报错\u001b[0m\u001b[0;34m\u001b[0m\u001b[0m\n\u001b[0m",
      "\u001b[0;32m<ipython-input-106-1ef9a9cc48f2>\u001b[0m in \u001b[0;36msum\u001b[0;34m(self)\u001b[0m\n\u001b[1;32m      5\u001b[0m \u001b[0;34m\u001b[0m\u001b[0m\n\u001b[1;32m      6\u001b[0m     \u001b[0;32mdef\u001b[0m \u001b[0msum\u001b[0m\u001b[0;34m(\u001b[0m\u001b[0mself\u001b[0m\u001b[0;34m)\u001b[0m\u001b[0;34m:\u001b[0m\u001b[0;34m\u001b[0m\u001b[0m\n\u001b[0;32m----> 7\u001b[0;31m         \u001b[0;32mreturn\u001b[0m \u001b[0mself\u001b[0m\u001b[0;34m.\u001b[0m\u001b[0m__a\u001b[0m \u001b[0;34m+\u001b[0m \u001b[0mself\u001b[0m\u001b[0;34m.\u001b[0m\u001b[0m__b\u001b[0m\u001b[0;34m\u001b[0m\u001b[0m\n\u001b[0m",
      "\u001b[0;31mAttributeError\u001b[0m: 'ASub' object has no attribute '_ABase__a'"
     ]
    }
   ],
   "source": [
    "sub.sum() # 子类无法直接访问父类私有属性,所以报错"
   ]
  },
  {
   "cell_type": "code",
   "execution_count": 118,
   "metadata": {},
   "outputs": [],
   "source": [
    "class ASub(ABase):\n",
    "    def __init__(self,a,b,c):\n",
    "        self.c = c\n",
    "        super().__init__(a,b) #子类一定需要一个初始化方法,并且在初始化方法中调用父类的初始化方法"
   ]
  },
  {
   "cell_type": "code",
   "execution_count": 119,
   "metadata": {},
   "outputs": [
    {
     "data": {
      "text/plain": [
       "3"
      ]
     },
     "execution_count": 119,
     "metadata": {},
     "output_type": "execute_result"
    }
   ],
   "source": [
    "sub = ASub(1,2,3)\n",
    "sub.sum()"
   ]
  },
  {
   "cell_type": "markdown",
   "metadata": {},
   "source": [
    "### 总结: super 对象只能获取类的公有属性和方法"
   ]
  },
  {
   "cell_type": "markdown",
   "metadata": {},
   "source": [
    "## 多继承"
   ]
  },
  {
   "cell_type": "code",
   "execution_count": 123,
   "metadata": {},
   "outputs": [],
   "source": [
    "class A:\n",
    "    def method(self):\n",
    "        print('method of A')\n",
    "        \n",
    "class B:\n",
    "    def method(self):\n",
    "        print('method of B')\n",
    "\n",
    "class C(B,A):\n",
    "    pass "
   ]
  },
  {
   "cell_type": "code",
   "execution_count": 124,
   "metadata": {},
   "outputs": [],
   "source": [
    "c = C()"
   ]
  },
  {
   "cell_type": "code",
   "execution_count": 125,
   "metadata": {},
   "outputs": [
    {
     "name": "stdout",
     "output_type": "stream",
     "text": [
      "method of B\n"
     ]
    }
   ],
   "source": [
    "c.method()"
   ]
  },
  {
   "cell_type": "code",
   "execution_count": 126,
   "metadata": {},
   "outputs": [],
   "source": [
    "class D(A,B):\n",
    "    pass "
   ]
  },
  {
   "cell_type": "code",
   "execution_count": 127,
   "metadata": {},
   "outputs": [],
   "source": [
    "d = D()"
   ]
  },
  {
   "cell_type": "code",
   "execution_count": 128,
   "metadata": {},
   "outputs": [
    {
     "name": "stdout",
     "output_type": "stream",
     "text": [
      "method of A\n"
     ]
    }
   ],
   "source": [
    "d.method()"
   ]
  },
  {
   "cell_type": "code",
   "execution_count": 129,
   "metadata": {},
   "outputs": [],
   "source": [
    "class E(A):\n",
    "    def method(self):\n",
    "        print('method of E')"
   ]
  },
  {
   "cell_type": "code",
   "execution_count": 130,
   "metadata": {},
   "outputs": [
    {
     "ename": "TypeError",
     "evalue": "Cannot create a consistent method resolution\norder (MRO) for bases E, A",
     "output_type": "error",
     "traceback": [
      "\u001b[0;31m---------------------------------------------------------------------------\u001b[0m",
      "\u001b[0;31mTypeError\u001b[0m                                 Traceback (most recent call last)",
      "\u001b[0;32m<ipython-input-130-74986258ddc6>\u001b[0m in \u001b[0;36m<module>\u001b[0;34m()\u001b[0m\n\u001b[0;32m----> 1\u001b[0;31m \u001b[0;32mclass\u001b[0m \u001b[0mF\u001b[0m\u001b[0;34m(\u001b[0m\u001b[0mA\u001b[0m\u001b[0;34m,\u001b[0m\u001b[0mE\u001b[0m\u001b[0;34m)\u001b[0m\u001b[0;34m:\u001b[0m\u001b[0;34m\u001b[0m\u001b[0m\n\u001b[0m\u001b[1;32m      2\u001b[0m     \u001b[0;32mpass\u001b[0m\u001b[0;34m\u001b[0m\u001b[0m\n",
      "\u001b[0;31mTypeError\u001b[0m: Cannot create a consistent method resolution\norder (MRO) for bases E, A"
     ]
    }
   ],
   "source": [
    "class F(A,E):\n",
    "    pass"
   ]
  },
  {
   "cell_type": "code",
   "execution_count": 131,
   "metadata": {},
   "outputs": [],
   "source": [
    "class G(E,A):\n",
    "    pass"
   ]
  },
  {
   "cell_type": "code",
   "execution_count": 132,
   "metadata": {},
   "outputs": [],
   "source": [
    "g = G()"
   ]
  },
  {
   "cell_type": "code",
   "execution_count": 133,
   "metadata": {},
   "outputs": [
    {
     "name": "stdout",
     "output_type": "stream",
     "text": [
      "method of E\n"
     ]
    }
   ],
   "source": [
    "g.method()"
   ]
  },
  {
   "cell_type": "markdown",
   "metadata": {},
   "source": [
    "## method resolution order (MRO) :方法查找顺序\n",
    "* 本地优先:自己定义或重写的方法优先,然后按照继承列表,从左到右查找\n",
    "* 单调性: 所有子类,也要满足查找顺序"
   ]
  },
  {
   "cell_type": "code",
   "execution_count": 135,
   "metadata": {},
   "outputs": [
    {
     "data": {
      "text/plain": [
       "(__main__.A, object)"
      ]
     },
     "execution_count": 135,
     "metadata": {},
     "output_type": "execute_result"
    }
   ],
   "source": [
    "A.__mro__"
   ]
  },
  {
   "cell_type": "code",
   "execution_count": 136,
   "metadata": {},
   "outputs": [
    {
     "data": {
      "text/plain": [
       "(__main__.E, __main__.A, object)"
      ]
     },
     "execution_count": 136,
     "metadata": {},
     "output_type": "execute_result"
    }
   ],
   "source": [
    "E.__mro__"
   ]
  },
  {
   "cell_type": "code",
   "execution_count": 137,
   "metadata": {},
   "outputs": [
    {
     "data": {
      "text/plain": [
       "(__main__.G, __main__.E, __main__.A, object)"
      ]
     },
     "execution_count": 137,
     "metadata": {},
     "output_type": "execute_result"
    }
   ],
   "source": [
    "G.__mro__"
   ]
  },
  {
   "cell_type": "markdown",
   "metadata": {},
   "source": [
    "```python\n",
    "class F(A,E):\n",
    "    pass\n",
    "```\n",
    "F的MRO: (F,A,E, object)  不满足class E 的单调性 所以不能定义"
   ]
  },
  {
   "cell_type": "markdown",
   "metadata": {},
   "source": [
    "C3 算法, python 通过C3 算法来确定是否满足MRO的两个原则"
   ]
  },
  {
   "cell_type": "markdown",
   "metadata": {},
   "source": [
    "class B(o) -> [B,O]\n",
    "class B(A1,A2,...,An) -> [B] + merge(mro(A1),mro(A2),..., mro(An),[A1,A2,...,An])"
   ]
  },
  {
   "cell_type": "markdown",
   "metadata": {},
   "source": [
    "merge 的步骤\n",
    "* 遍历列表\n",
    "* 看第一个列表的首元素\n",
    "    * 它在其他列表里也是首元素\n",
    "    * 它在其他列表不存在\n",
    "* 满足以上两种情况,移除并合并到MRO,不满足,则抛出异常"
   ]
  },
  {
   "cell_type": "markdown",
   "metadata": {},
   "source": [
    "## 但在实际编程中,应该尽量避免多继承\n",
    "当继承层次较多时无法判断是否满足MRO原则\n",
    "且python是解释执行的,一段代码只有执行到的时候,才知道有没有错"
   ]
  },
  {
   "cell_type": "markdown",
   "metadata": {},
   "source": [
    "# 类装饰器\n",
    "* 可以设置一些类变量\n",
    "* 可以给类增加一些方法\n",
    "## Mixin : 另外一种方式实现"
   ]
  },
  {
   "cell_type": "code",
   "execution_count": 149,
   "metadata": {},
   "outputs": [],
   "source": [
    "class Document:\n",
    "    def __init__(self, content):\n",
    "        self.content = content\n",
    "        \n",
    "class Word(Document):\n",
    "    def __init__(self, content):\n",
    "        super().__init__('word:{}'.format(content))\n",
    "        \n",
    "class Excel(Document):\n",
    "    def __init__(self, content):\n",
    "        super().__init__('Excel:{}'.format(content))"
   ]
  },
  {
   "cell_type": "code",
   "execution_count": 154,
   "metadata": {},
   "outputs": [],
   "source": [
    "def pritabel(cls):\n",
    "    def _print(self):\n",
    "        print('P: {}'.format(self.content))\n",
    "    cls.print = _print\n",
    "    return cls"
   ]
  },
  {
   "cell_type": "code",
   "execution_count": 155,
   "metadata": {},
   "outputs": [],
   "source": [
    "@pritabel\n",
    "class PrintableWord(Word):\n",
    "    def __init__(self,content):\n",
    "        super().__init__(content)"
   ]
  },
  {
   "cell_type": "code",
   "execution_count": 156,
   "metadata": {},
   "outputs": [],
   "source": [
    "pw = PrintableWord('abc')"
   ]
  },
  {
   "cell_type": "code",
   "execution_count": 157,
   "metadata": {},
   "outputs": [
    {
     "name": "stdout",
     "output_type": "stream",
     "text": [
      "P: word:abc\n"
     ]
    }
   ],
   "source": [
    "pw.print()"
   ]
  },
  {
   "cell_type": "code",
   "execution_count": 158,
   "metadata": {},
   "outputs": [],
   "source": [
    "def print_to_monitor(cls):\n",
    "    def _print(self):\n",
    "        print('Monitor print: {}'.format(self.content))\n",
    "    cls.print = _print\n",
    "    return cls"
   ]
  },
  {
   "cell_type": "code",
   "execution_count": 159,
   "metadata": {},
   "outputs": [],
   "source": [
    "@print_to_monitor\n",
    "class PrintMonitorWord(Word):\n",
    "    def __init__(self,content):\n",
    "        super().__init__(content)"
   ]
  },
  {
   "cell_type": "code",
   "execution_count": 161,
   "metadata": {},
   "outputs": [],
   "source": [
    "PM= PrintMonitorWord('bba')"
   ]
  },
  {
   "cell_type": "code",
   "execution_count": 162,
   "metadata": {},
   "outputs": [
    {
     "name": "stdout",
     "output_type": "stream",
     "text": [
      "Monitor print: word:bba\n"
     ]
    }
   ],
   "source": [
    "PM.print()"
   ]
  },
  {
   "cell_type": "code",
   "execution_count": 187,
   "metadata": {},
   "outputs": [],
   "source": [
    "class PrintableMixin:\n",
    "    def print(self):\n",
    "        print('PMixin: {}'.format(self.content))"
   ]
  },
  {
   "cell_type": "code",
   "execution_count": 181,
   "metadata": {},
   "outputs": [],
   "source": [
    "class PrintableWord(PrintableMixin,Word):\n",
    "    def __init__(self,content):\n",
    "        super().__init__(content)"
   ]
  },
  {
   "cell_type": "code",
   "execution_count": 173,
   "metadata": {},
   "outputs": [],
   "source": [
    "PW = PrintableWord('abc')"
   ]
  },
  {
   "cell_type": "code",
   "execution_count": 174,
   "metadata": {},
   "outputs": [
    {
     "name": "stdout",
     "output_type": "stream",
     "text": [
      "PMixin: word:abc\n"
     ]
    }
   ],
   "source": [
    "PW.print()"
   ]
  },
  {
   "cell_type": "code",
   "execution_count": 186,
   "metadata": {},
   "outputs": [],
   "source": [
    "class PrintToMonitorMixin(PrintableMixin):\n",
    "    def print(self):\n",
    "        print('Monitor:{}'.format(super().print()))"
   ]
  },
  {
   "cell_type": "code",
   "execution_count": 193,
   "metadata": {},
   "outputs": [],
   "source": [
    "class PrintToMonitorWrod(PrintToMonitorMixin,Word):\n",
    "    pass"
   ]
  },
  {
   "cell_type": "code",
   "execution_count": 195,
   "metadata": {},
   "outputs": [],
   "source": [
    "pmw = PrintToMonitorWrod('abc')"
   ]
  },
  {
   "cell_type": "code",
   "execution_count": 196,
   "metadata": {},
   "outputs": [
    {
     "name": "stdout",
     "output_type": "stream",
     "text": [
      "Monitor:PMixin: word:abc\n"
     ]
    }
   ],
   "source": [
    "pmw.print()"
   ]
  },
  {
   "cell_type": "markdown",
   "metadata": {},
   "source": [
    "### Mixin 其实也是一种组合的方式\n",
    "### 通常来说,组合优于继承\n",
    "\n",
    "* Mixin 类的限制:\n",
    "    * Mixin 类不应该有初始化方法\n",
    "    * Mixin 类通常不能独立工作\n",
    "    * Mixin 类的祖先也应该是Mixin类\n",
    "* 通常情况下,Mixin类总是在继承列表的第一位"
   ]
  },
  {
   "cell_type": "code",
   "execution_count": null,
   "metadata": {},
   "outputs": [],
   "source": []
  }
 ],
 "metadata": {
  "kernelspec": {
   "display_name": "Python 3",
   "language": "python",
   "name": "python3"
  },
  "language_info": {
   "codemirror_mode": {
    "name": "ipython",
    "version": 3
   },
   "file_extension": ".py",
   "mimetype": "text/x-python",
   "name": "python",
   "nbconvert_exporter": "python",
   "pygments_lexer": "ipython3",
   "version": "3.5.3"
  }
 },
 "nbformat": 4,
 "nbformat_minor": 2
}
