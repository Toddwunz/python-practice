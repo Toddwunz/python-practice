{
 "cells": [
  {
   "cell_type": "code",
   "execution_count": 127,
   "metadata": {},
   "outputs": [],
   "source": [
    "def roma(nu):\n",
    "    Dnum = {'I':1,'V':5,'X':10,'L':50,'C':100,'D':500,'M':1000}\n",
    "    lst = list(nu)\n",
    "    Sum = 0\n",
    "    for i in range(len(lst)):\n",
    "        if (i+1 >= len(lst)):\n",
    "            Sum = Sum + Dnum.get(lst[i])\n",
    "        elif Dnum.get(lst[i]) >= Dnum.get(lst[i+1]):\n",
    "            Sum = Sum + Dnum.get(lst[i])\n",
    "        else:\n",
    "            Sum = Sum - Dnum.get(lst[i])\n",
    "    print(Sum)"
   ]
  },
  {
   "cell_type": "code",
   "execution_count": 128,
   "metadata": {},
   "outputs": [
    {
     "name": "stdout",
     "output_type": "stream",
     "text": [
      "8\n"
     ]
    }
   ],
   "source": [
    "roma('VIII')"
   ]
  },
  {
   "cell_type": "code",
   "execution_count": 16,
   "metadata": {},
   "outputs": [],
   "source": [
    "l1=[1,2,4]\n",
    "l2=[1,3,4]\n",
    "def mergeTwoList(la,lb):\n",
    "    templist = sorted(la + lb)\n",
    "    return templist"
   ]
  },
  {
   "cell_type": "code",
   "execution_count": 18,
   "metadata": {},
   "outputs": [
    {
     "data": {
      "text/plain": [
       "[1, 1, 2, 3, 4, 4]"
      ]
     },
     "execution_count": 18,
     "metadata": {},
     "output_type": "execute_result"
    }
   ],
   "source": [
    "mergeTwoList(l1,l2)"
   ]
  },
  {
   "cell_type": "code",
   "execution_count": 14,
   "metadata": {},
   "outputs": [
    {
     "data": {
      "text/plain": [
       "[1, 2, 4, 1, 3, 4]"
      ]
     },
     "execution_count": 14,
     "metadata": {},
     "output_type": "execute_result"
    }
   ],
   "source": [
    "l"
   ]
  },
  {
   "cell_type": "code",
   "execution_count": 131,
   "metadata": {},
   "outputs": [],
   "source": [
    "lst = [\"flower\",\"flow\",\"flight\",'flooded']"
   ]
  },
  {
   "cell_type": "code",
   "execution_count": 62,
   "metadata": {},
   "outputs": [],
   "source": []
  },
  {
   "cell_type": "code",
   "execution_count": 129,
   "metadata": {},
   "outputs": [],
   "source": [
    " def longestCommonPrefix(strs):\n",
    "    tmplst = []\n",
    "    result = ''\n",
    "    for i in strs:\n",
    "        tmplst += i\n",
    "    for k in tmplst:\n",
    "        if tmplst.count[k] == len(strs) and k not in result:\n",
    "            result.append(k)\n",
    "    return result"
   ]
  },
  {
   "cell_type": "code",
   "execution_count": 132,
   "metadata": {},
   "outputs": [
    {
     "ename": "TypeError",
     "evalue": "'builtin_function_or_method' object is not subscriptable",
     "output_type": "error",
     "traceback": [
      "\u001b[0;31m---------------------------------------------------------------------------\u001b[0m",
      "\u001b[0;31mTypeError\u001b[0m                                 Traceback (most recent call last)",
      "\u001b[0;32m<ipython-input-132-4bcb799c6214>\u001b[0m in \u001b[0;36m<module>\u001b[0;34m\u001b[0m\n\u001b[0;32m----> 1\u001b[0;31m \u001b[0mlongestCommonPrefix\u001b[0m\u001b[0;34m(\u001b[0m\u001b[0mlst\u001b[0m\u001b[0;34m)\u001b[0m\u001b[0;34m\u001b[0m\u001b[0;34m\u001b[0m\u001b[0m\n\u001b[0m",
      "\u001b[0;32m<ipython-input-129-29f22a203599>\u001b[0m in \u001b[0;36mlongestCommonPrefix\u001b[0;34m(strs)\u001b[0m\n\u001b[1;32m      5\u001b[0m        \u001b[0mtmplst\u001b[0m \u001b[0;34m+=\u001b[0m \u001b[0mi\u001b[0m\u001b[0;34m\u001b[0m\u001b[0;34m\u001b[0m\u001b[0m\n\u001b[1;32m      6\u001b[0m    \u001b[0;32mfor\u001b[0m \u001b[0mk\u001b[0m \u001b[0;32min\u001b[0m \u001b[0mtmplst\u001b[0m\u001b[0;34m:\u001b[0m\u001b[0;34m\u001b[0m\u001b[0;34m\u001b[0m\u001b[0m\n\u001b[0;32m----> 7\u001b[0;31m        \u001b[0;32mif\u001b[0m \u001b[0mtmplst\u001b[0m\u001b[0;34m.\u001b[0m\u001b[0mcount\u001b[0m\u001b[0;34m[\u001b[0m\u001b[0mk\u001b[0m\u001b[0;34m]\u001b[0m \u001b[0;34m==\u001b[0m \u001b[0mlen\u001b[0m\u001b[0;34m(\u001b[0m\u001b[0mstrs\u001b[0m\u001b[0;34m)\u001b[0m \u001b[0;32mand\u001b[0m \u001b[0mk\u001b[0m \u001b[0;32mnot\u001b[0m \u001b[0;32min\u001b[0m \u001b[0mresult\u001b[0m\u001b[0;34m:\u001b[0m\u001b[0;34m\u001b[0m\u001b[0;34m\u001b[0m\u001b[0m\n\u001b[0m\u001b[1;32m      8\u001b[0m            \u001b[0mresult\u001b[0m\u001b[0;34m.\u001b[0m\u001b[0mappend\u001b[0m\u001b[0;34m(\u001b[0m\u001b[0mk\u001b[0m\u001b[0;34m)\u001b[0m\u001b[0;34m\u001b[0m\u001b[0;34m\u001b[0m\u001b[0m\n\u001b[1;32m      9\u001b[0m    \u001b[0;32mreturn\u001b[0m \u001b[0mresult\u001b[0m\u001b[0;34m\u001b[0m\u001b[0;34m\u001b[0m\u001b[0m\n",
      "\u001b[0;31mTypeError\u001b[0m: 'builtin_function_or_method' object is not subscriptable"
     ]
    }
   ],
   "source": [
    "longestCommonPrefix(lst)"
   ]
  },
  {
   "cell_type": "code",
   "execution_count": 426,
   "metadata": {},
   "outputs": [],
   "source": [
    "#数字转罗马数字 范围1-3999"
   ]
  },
  {
   "cell_type": "code",
   "execution_count": 194,
   "metadata": {},
   "outputs": [],
   "source": [
    "Rom= 2981\n",
    "Result = ''\n",
    "tmp = Rom"
   ]
  },
  {
   "cell_type": "code",
   "execution_count": 427,
   "metadata": {},
   "outputs": [],
   "source": [
    "#优化版\n",
    "def intToRoman(num: int) -> str:\n",
    "    Dnum = {1:'I',4:'IV',5:'V',9:'IX',10:'X',40:'XL',50:'L',90:'XC',100:'C',400:'CD',500:'D',900:'CM',1000:'M'}\n",
    "    Result = ''\n",
    "    tmp = num\n",
    "    while tmp > 0:\n",
    "        for i in [1000,900,500,400,100,90,50,40,10,9,5,4,1]:\n",
    "            if tmp // i > 0 or tmp // i == 1:\n",
    "                Result += tmp//i* Dnum.get(i)\n",
    "                tmp = tmp%i\n",
    "                print(tmp,i,Result)\n",
    "                break\n",
    "            else:\n",
    "                continue\n",
    "    return Result"
   ]
  },
  {
   "cell_type": "code",
   "execution_count": 425,
   "metadata": {},
   "outputs": [
    {
     "name": "stdout",
     "output_type": "stream",
     "text": [
      "999 1000 M\n",
      "99 900 MCM\n",
      "9 90 MCMXC\n",
      "0 9 MCMXCIX\n"
     ]
    },
    {
     "data": {
      "text/plain": [
       "'MCMXCIX'"
      ]
     },
     "execution_count": 425,
     "metadata": {},
     "output_type": "execute_result"
    }
   ],
   "source": [
    "intToRoman(1999)"
   ]
  },
  {
   "cell_type": "code",
   "execution_count": 428,
   "metadata": {},
   "outputs": [],
   "source": [
    "#初级版 \n",
    "class Solution:\n",
    "    def intToRoman(self, num: int) -> str:\n",
    "        Dnum = {1:'I',5:'V',10:'X',50:'L',100:'C',500:'D',1000:'M'}\n",
    "        Result = ''\n",
    "        tmp = num\n",
    "        while tmp > 0:\n",
    "            if tmp//1000 > 0:\n",
    "                Result += tmp//1000* Dnum.get(1000)\n",
    "                tmp = tmp%1000\n",
    "                continue\n",
    "            elif tmp//500 > 0:\n",
    "                if tmp//900 == 1:\n",
    "                    Result += 'CM'\n",
    "                    tmp = tmp%900\n",
    "                else:\n",
    "                    Result += tmp//500* Dnum.get(500)\n",
    "                    tmp = tmp%500\n",
    "                continue\n",
    "            elif tmp//100 > 0:\n",
    "                if tmp // 100 == 4:\n",
    "                    Result += 'CD'\n",
    "                    tmp = tmp%400\n",
    "                else:\n",
    "                    Result += tmp//100* Dnum.get(100)\n",
    "                    tmp = tmp%100\n",
    "                continue\n",
    "            elif tmp // 50 > 0:\n",
    "                if tmp // 90 == 1:\n",
    "                    Result += 'XC'\n",
    "                    tmp = tmp%90\n",
    "                else:\n",
    "                    Result += tmp//50* Dnum.get(50)\n",
    "                    tmp = tmp%50\n",
    "                continue\n",
    "            elif tmp // 10 > 0:\n",
    "                if tmp // 10 == 4:\n",
    "                    Result += 'XL'\n",
    "                    tmp = tmp%40\n",
    "                else:\n",
    "                    Result += tmp//10* Dnum.get(10)\n",
    "                    tmp = tmp%10\n",
    "                continue\n",
    "            elif tmp // 5 > 0:\n",
    "                if tmp // 9 == 1:\n",
    "                    Result += 'IX'\n",
    "                    tmp = tmp%9\n",
    "                else:\n",
    "                    Result += tmp//5* Dnum.get(5)\n",
    "                    tmp = tmp%5\n",
    "                continue\n",
    "            elif tmp // 1 > 0:\n",
    "                if tmp // 4 == 1:\n",
    "                    Result += 'IV'\n",
    "                    tmp = tmp%4\n",
    "                else:\n",
    "                    Result += tmp//1* Dnum.get(1)\n",
    "                    tmp = tmp%1\n",
    "                continue\n",
    "        return Result"
   ]
  },
  {
   "cell_type": "code",
   "execution_count": 438,
   "metadata": {},
   "outputs": [],
   "source": [
    "tmplst = [\"caa\",\"ca\",\"c\",\"cacb\"]"
   ]
  },
  {
   "cell_type": "code",
   "execution_count": 435,
   "metadata": {},
   "outputs": [],
   "source": [
    "class Solution:\n",
    "    def comprix(self,stra,strb):\n",
    "        sprix = \"\"\n",
    "        for i in range(len(min(stra,strb))):\n",
    "            if stra[i] == strb[i]:\n",
    "                sprix += stra[i]\n",
    "            else:\n",
    "                break\n",
    "        return sprix\n",
    "    def longestCommonPrefix(self, strs):\n",
    "        if len(strs) ==0:\n",
    "            return \"\"\n",
    "        elif len(strs) == 1:\n",
    "            return strs[0]\n",
    "        s = \"\"\n",
    "        tmp = \"\"\n",
    "        for i in range(1,len(strs)):\n",
    "            print(\"tmp\")\n",
    "            s = self.comprix(strs[i-1],strs[i])\n",
    "            if i ==1 or len(s) < len(tmp):\n",
    "                tmp = s\n",
    "        return tmp"
   ]
  },
  {
   "cell_type": "code",
   "execution_count": 439,
   "metadata": {},
   "outputs": [
    {
     "name": "stdout",
     "output_type": "stream",
     "text": [
      "tmp\n",
      "tmp\n",
      "tmp\n"
     ]
    },
    {
     "data": {
      "text/plain": [
       "'c'"
      ]
     },
     "execution_count": 439,
     "metadata": {},
     "output_type": "execute_result"
    }
   ],
   "source": [
    "x = Solution()\n",
    "x.longestCommonPrefix(tmplst)"
   ]
  },
  {
   "cell_type": "code",
   "execution_count": 383,
   "metadata": {},
   "outputs": [],
   "source": [
    "def comprix(stra,strb):\n",
    "        sprix = \"\"\n",
    "        for i in range(len(min(stra,strb))):\n",
    "            if stra[i] == strb[i]:\n",
    "                sprix += stra[i]\n",
    "            else:\n",
    "                break\n",
    "        return sprix"
   ]
  },
  {
   "cell_type": "code",
   "execution_count": 384,
   "metadata": {},
   "outputs": [
    {
     "data": {
      "text/plain": [
       "''"
      ]
     },
     "execution_count": 384,
     "metadata": {},
     "output_type": "execute_result"
    }
   ],
   "source": [
    "comprix(\"caa\",\"tmplst\")"
   ]
  },
  {
   "cell_type": "code",
   "execution_count": 301,
   "metadata": {},
   "outputs": [],
   "source": [
    "lst = []"
   ]
  },
  {
   "cell_type": "code",
   "execution_count": 304,
   "metadata": {},
   "outputs": [
    {
     "data": {
      "text/plain": [
       "False"
      ]
     },
     "execution_count": 304,
     "metadata": {},
     "output_type": "execute_result"
    }
   ],
   "source": [
    "\"\" not in \"\""
   ]
  },
  {
   "cell_type": "code",
   "execution_count": null,
   "metadata": {},
   "outputs": [],
   "source": []
  },
  {
   "cell_type": "code",
   "execution_count": 441,
   "metadata": {},
   "outputs": [],
   "source": [
    "tmplst = [\"caa\",\"\",\"a\",\"acb\"]\n",
    "for i in zip(*tmplst):\n",
    "    print(i)"
   ]
  },
  {
   "cell_type": "code",
   "execution_count": null,
   "metadata": {},
   "outputs": [],
   "source": [
    "num = 550\n",
    "dicnum ={1:'one',2:'two',3:'three',4:'four',5:'five',6:'six',7:'seven',8:'eight',9:'nine',10:'ten',11:'eleven',12:'twelve',13:'thirteen',14:'fourteen',15:'fifteen',16:'sixteen',17:'seventeen',18:'eighteen',19:'nineteen',20:'twenty',30:'thirty',40:'forty',50:'fivety',60:'sixty',70:'seventy',80:'eighty',90:'ninety'}"
   ]
  },
  {
   "cell_type": "code",
   "execution_count": 643,
   "metadata": {},
   "outputs": [
    {
     "name": "stdout",
     "output_type": "stream",
     "text": [
      "1 result=  20 20\n",
      "2 result= twenty 20 0\n"
     ]
    }
   ],
   "source": [
    "#初版\n",
    "tmp = 20\n",
    "result = ''\n",
    "while tmp > 0:\n",
    "    if tmp < 20:\n",
    "            result += ' ' + dicnum.get(tmp)\n",
    "            print(3,'result=',result,i,tmp)\n",
    "            tmp = tmp%1\n",
    "            continue\n",
    "    if tmp >= 100:\n",
    "        result += dicnum.get(tmp//100) +' '+ dicnum.get(100)\n",
    "        tmp = tmp%100\n",
    "        continue\n",
    "    \n",
    "    if tmp >=20:\n",
    "        for i in [90,80,70,60,50,40,30,20]:\n",
    "            if tmp//i > 0:\n",
    "                print(1,'result=',result,i,tmp)\n",
    "                result += dicnum.get(i)\n",
    "                tmp = tmp%i\n",
    "                print(2,'result=',result,i,tmp)\n",
    "                continue"
   ]
  },
  {
   "cell_type": "code",
   "execution_count": null,
   "metadata": {},
   "outputs": [],
   "source": [
    "#优化版\n",
    "dicnum ={0:'zero',1:'one',2:'two',3:'three',4:'four',5:'five',6:'six',7:'seven',8:'eight',9:'nine',10:'ten',11:'eleven',12:'twelve',13:'thirteen',14:'fourteen',15:'fifteen',16:'sixteen',17:'seventeen',18:'eighteen',19:'nineteen',20:'twenty',30:'thirty',40:'forty',50:'fivety',60:'sixty',70:'seventy',80:'eighty',90:'ninety',100:'hundred',1000:'thousand',1000000:'million',1000000000:'billion',1000000000000:'trillion'}\n",
    "def converternum(num):\n",
    "    tmp = num\n",
    "    result = ''\n",
    "    if tmp <= 20:\n",
    "        result += dicnum.get(tmp)\n",
    "        return result\n",
    "    else:\n",
    "        while tmp > 0:\n",
    "            for i in [100,90,80,70,60,50,40,30,20]:\n",
    "                if tmp >= 100:\n",
    "                    result += dicnum.get(tmp//100) +' '+ dicnum.get(100)\n",
    "                    tmp = tmp%100\n",
    "                    continue\n",
    "                elif tmp//i > 0:\n",
    "                    result += ' ' + dicnum.get(i)\n",
    "                    tmp = tmp%i\n",
    "                    continue  \n",
    "        return result\n",
    "\n",
    "def numberToWords(num):\n",
    "    words = ''\n",
    "    tmp = num\n",
    "    if tmp < 1000:\n",
    "        return converternum(tmp)\n",
    "    for i in [1000000000000,1000000000,1000000,1000,1]:\n",
    "        bitp = tmp // i\n",
    "        if i == 1:\n",
    "            words += converternum(tmp//i)\n",
    "            continue\n",
    "        if bitp > 0:\n",
    "            print('before',i,bitp,tmp,words)\n",
    "            words += converternum(bitp) + ' ' + dicnum.get(i) + ' '\n",
    "            tmp = tmp % i\n",
    "            print('after',i,tmp,words)\n",
    "    return words.title().strip()"
   ]
  },
  {
   "cell_type": "code",
   "execution_count": null,
   "metadata": {},
   "outputs": [],
   "source": [
    "#提交版\n",
    "class Solution:\n",
    "    dicnum ={0:'Zero',1:'one',2:'two',3:'three',4:'four',5:'five',6:'six',7:'seven',8:'eight',9:'nine',10:'ten',11:'eleven',12:'twelve',13:'thirteen',14:'fourteen',15:'fifteen',16:'sixteen',17:'seventeen',18:'eighteen',19:'nineteen',20:'twenty',30:'thirty',40:'forty',50:'fifty',60:'sixty',70:'seventy',80:'eighty',90:'ninety',100:'hundred',1000:'thousand',1000000:'million',1000000000:'billion',1000000000000:'trillion'}\n",
    "    def converternum(self,num):\n",
    "        tmp = num\n",
    "        result = ''\n",
    "        while tmp > 0:\n",
    "            if tmp <= 20:\n",
    "                result += ' ' + self.dicnum.get(tmp)\n",
    "                tmp = tmp%tmp\n",
    "                continue\n",
    "            else:\n",
    "                for i in [100,90,80,70,60,50,40,30,20]:\n",
    "                    if tmp//i > 0 and i == 100:\n",
    "                        result += self.dicnum.get(tmp//100) +' '+ self.dicnum.get(100)\n",
    "                        tmp = tmp%100\n",
    "                        continue\n",
    "                    elif tmp//i > 0:\n",
    "                        result += ' ' + self.dicnum.get(i)\n",
    "                        tmp = tmp%i\n",
    "                        continue\n",
    "        return result.strip()\n",
    "\n",
    "    def numberToWords(self,num):\n",
    "        words = ''\n",
    "        tmp = num\n",
    "        if tmp == 0:\n",
    "            return \"Zero\" \n",
    "        for i in [1000000000000,1000000000,1000000,1000,1]:\n",
    "            bitp = tmp // i\n",
    "            if i == 1:\n",
    "                words += self.converternum(tmp//i)\n",
    "                break\n",
    "            if bitp > 0:\n",
    "                words += self.converternum(bitp) + ' ' + self.dicnum.get(i) + ' '\n",
    "                tmp = tmp % i\n",
    "        return words.title().strip()"
   ]
  },
  {
   "cell_type": "code",
   "execution_count": null,
   "metadata": {},
   "outputs": [],
   "source": [
    "converternum(999)"
   ]
  },
  {
   "cell_type": "code",
   "execution_count": 592,
   "metadata": {},
   "outputs": [
    {
     "data": {
      "text/plain": [
       "123"
      ]
     },
     "execution_count": 592,
     "metadata": {},
     "output_type": "execute_result"
    }
   ],
   "source": [
    "123124111 // 1000000"
   ]
  },
  {
   "cell_type": "code",
   "execution_count": 1,
   "metadata": {},
   "outputs": [
    {
     "data": {
      "text/plain": [
       "2"
      ]
     },
     "execution_count": 1,
     "metadata": {},
     "output_type": "execute_result"
    }
   ],
   "source": [
    "20//10"
   ]
  },
  {
   "cell_type": "code",
   "execution_count": 2,
   "metadata": {},
   "outputs": [
    {
     "data": {
      "text/plain": [
       "0"
      ]
     },
     "execution_count": 2,
     "metadata": {},
     "output_type": "execute_result"
    }
   ],
   "source": [
    "19%1"
   ]
  },
  {
   "cell_type": "code",
   "execution_count": 675,
   "metadata": {},
   "outputs": [],
   "source": [
    "test = [-1, 0, 1, 2, -1, -4]"
   ]
  },
  {
   "cell_type": "code",
   "execution_count": 676,
   "metadata": {},
   "outputs": [
    {
     "name": "stdout",
     "output_type": "stream",
     "text": [
      "0 -1\n",
      "1 0\n",
      "2 1\n",
      "3 2\n",
      "4 -1\n",
      "5 -4\n"
     ]
    }
   ],
   "source": [
    "for k,v in enumerate(test):\n",
    "    for i in range(i+1,len(test)):\n",
    "        "
   ]
  },
  {
   "cell_type": "code",
   "execution_count": 679,
   "metadata": {},
   "outputs": [
    {
     "name": "stdout",
     "output_type": "stream",
     "text": [
      "0\n",
      "1\n",
      "2\n",
      "3\n"
     ]
    }
   ],
   "source": [
    "for i in range(0,4):\n",
    "    print(i)"
   ]
  },
  {
   "cell_type": "code",
   "execution_count": 794,
   "metadata": {},
   "outputs": [],
   "source": [
    "l1 = [2,4,3]\n",
    "l2 = [5,6,4]"
   ]
  },
  {
   "cell_type": "code",
   "execution_count": 808,
   "metadata": {},
   "outputs": [
    {
     "data": {
      "text/plain": [
       "'7 -> 0 -> 8'"
      ]
     },
     "execution_count": 808,
     "metadata": {},
     "output_type": "execute_result"
    }
   ],
   "source": [
    "L = ''.join(map(str,l1))\n",
    "R = ''.join(map(str,l2))\n",
    "Total = str(eval((L + '+' + R)[::-1]))\n",
    "result = \" -> \".join(v for v in Total[::-1])\n",
    "result"
   ]
  },
  {
   "cell_type": "code",
   "execution_count": 787,
   "metadata": {},
   "outputs": [
    {
     "data": {
      "text/plain": [
       "'7 -> 0 -> 8'"
      ]
     },
     "execution_count": 787,
     "metadata": {},
     "output_type": "execute_result"
    }
   ],
   "source": [
    "num = ['1','2','3','4','5','6','7','8','9','0','+']\n",
    "tmplst = []\n",
    "for i in form:\n",
    "    if i in num:\n",
    "        tmplst.append(i)\n",
    "newlst = ''.join(tmplst[::-1])\n",
    "a = str(eval(newlst))\n",
    "result = \" -> \".join(v for v in a[::-1])\n",
    "result"
   ]
  },
  {
   "cell_type": "code",
   "execution_count": 817,
   "metadata": {},
   "outputs": [
    {
     "name": "stdout",
     "output_type": "stream",
     "text": [
      "[1, 3, 2, 4, 7, 6, 5, 9]\n"
     ]
    }
   ],
   "source": [
    "List = [1,1,3,3,2,2,4,7,6,5,9]\n",
    "for i in "
   ]
  },
  {
   "cell_type": "code",
   "execution_count": 836,
   "metadata": {},
   "outputs": [
    {
     "data": {
      "text/plain": [
       "[1, 3, 2, 4, 7, 6, 5, 9]"
      ]
     },
     "execution_count": 836,
     "metadata": {},
     "output_type": "execute_result"
    }
   ],
   "source": [
    "mylist = [1,1,3,3,2,2,4,7,6,5,9]\n",
    "List =[]\n",
    "for i in mylist:\n",
    "    if i not in List:\n",
    "        List.append(i)\n",
    "List"
   ]
  },
  {
   "cell_type": "code",
   "execution_count": 838,
   "metadata": {},
   "outputs": [],
   "source": [
    "def removeDuplicates(self, nums):\n",
    "    N = 0\n",
    "    for i in range(len(nums)-1):\n",
    "        if nums[i] == nums[i+1]:\n",
    "            del(nums[i])\n",
    "        else:\n",
    "            N +=1\n",
    "    return N"
   ]
  },
  {
   "cell_type": "code",
   "execution_count": 847,
   "metadata": {},
   "outputs": [],
   "source": [
    "def removeElement(nums, val):\n",
    "    i = 0 \n",
    "    while i < len(nums):\n",
    "        if nums[i] == val:\n",
    "            del(nums[i])\n",
    "            continue\n",
    "        i +=1\n",
    "    return i,nums"
   ]
  },
  {
   "cell_type": "code",
   "execution_count": 848,
   "metadata": {},
   "outputs": [],
   "source": [
    "a = [0,1,2,2,3,0,4,2]"
   ]
  },
  {
   "cell_type": "code",
   "execution_count": 849,
   "metadata": {},
   "outputs": [
    {
     "data": {
      "text/plain": [
       "(5, [0, 1, 3, 0, 4])"
      ]
     },
     "execution_count": 849,
     "metadata": {},
     "output_type": "execute_result"
    }
   ],
   "source": [
    "removeElement(a,2)"
   ]
  },
  {
   "cell_type": "code",
   "execution_count": 4,
   "metadata": {},
   "outputs": [],
   "source": [
    "class Node:\n",
    "    def __init__(self,value):\n",
    "        self.value = value\n",
    "        self.next = None"
   ]
  },
  {
   "cell_type": "code",
   "execution_count": 39,
   "metadata": {},
   "outputs": [],
   "source": [
    "node1 = Node(2)\n",
    "node2 = Node(4)\n",
    "node3 = Node(3)\n",
    "node1.next = node2\n",
    "node2.next = node3\n",
    "\n",
    "node4 = Node(5)\n",
    "node5 = Node(0)\n",
    "node6 = Node(0)\n",
    "node4.next = node5\n",
    "node5.next = node6\n",
    "L1 = node1\n",
    "L2 = node4"
   ]
  },
  {
   "cell_type": "code",
   "execution_count": 40,
   "metadata": {},
   "outputs": [],
   "source": [
    "def addTwoNumbers(L1, L2):\n",
    "    carry_over = 0\n",
    "    res =  Node(None)\n",
    "    Prev = Node(None)\n",
    "    while L1 or L2:\n",
    "        if L1 == None:\n",
    "            sum_result = L2.value + carry_over\n",
    "            L2 = L2.next\n",
    "        elif L2 == None:\n",
    "            sum_result = L1.value + carry_over\n",
    "            L1 = L1.next\n",
    "        else:\n",
    "            sum_result = L1.value + L2.value + carry_over\n",
    "            L1 = L1.next\n",
    "            L2 = L2.next\n",
    "        tmp_sum = sum_result % 10\n",
    "        carry_over = sum_result // 10\n",
    "        new_node = Node(tmp_sum)\n",
    "        if res.value == None:\n",
    "            res = new_node\n",
    "            Prev = res\n",
    "        else:\n",
    "            Prev.next = new_node\n",
    "            Prev = Prev.next\n",
    "    if carry_over > 0:\n",
    "        res.next = Node(carry_over)\n",
    "    return res"
   ]
  },
  {
   "cell_type": "code",
   "execution_count": 41,
   "metadata": {},
   "outputs": [],
   "source": [
    "a = addTwoNumbers(L1,L2)"
   ]
  },
  {
   "cell_type": "code",
   "execution_count": 42,
   "metadata": {},
   "outputs": [
    {
     "name": "stdout",
     "output_type": "stream",
     "text": [
      "7\n",
      "4\n",
      "3\n"
     ]
    }
   ],
   "source": [
    "while a:\n",
    "    print(a.value)\n",
    "    a = a.next"
   ]
  },
  {
   "cell_type": "code",
   "execution_count": 59,
   "metadata": {},
   "outputs": [],
   "source": []
  },
  {
   "cell_type": "code",
   "execution_count": 102,
   "metadata": {},
   "outputs": [],
   "source": []
  },
  {
   "cell_type": "code",
   "execution_count": 125,
   "metadata": {},
   "outputs": [],
   "source": [
    "def isValid(test):\n",
    "    dirc = {']':'[',')':'(', '}':'{' }\n",
    "    heap = []\n",
    "    for i in test:\n",
    "        if i in dirc.values():\n",
    "            heap.append(i)\n",
    "        elif i in dirc.keys() and len(heap) > 0:\n",
    "            if heap.pop() != dirc[i]:\n",
    "                return False\n",
    "        else:\n",
    "            return False\n",
    "    return heap == []"
   ]
  },
  {
   "cell_type": "code",
   "execution_count": 124,
   "metadata": {},
   "outputs": [
    {
     "data": {
      "text/plain": [
       "False"
      ]
     },
     "execution_count": 124,
     "metadata": {},
     "output_type": "execute_result"
    }
   ],
   "source": [
    "test = \"}()\"\n",
    "isValid(test)"
   ]
  },
  {
   "cell_type": "code",
   "execution_count": 53,
   "metadata": {},
   "outputs": [
    {
     "data": {
      "text/plain": [
       "True"
      ]
     },
     "execution_count": 53,
     "metadata": {},
     "output_type": "execute_result"
    }
   ],
   "source": [
    "left.pop() == '{'"
   ]
  },
  {
   "cell_type": "code",
   "execution_count": 113,
   "metadata": {},
   "outputs": [
    {
     "name": "stdout",
     "output_type": "stream",
     "text": [
      "True\n"
     ]
    }
   ],
   "source": [
    "heap = ['']\n",
    "if heap:\n",
    "    print(True)"
   ]
  },
  {
   "cell_type": "code",
   "execution_count": 207,
   "metadata": {},
   "outputs": [],
   "source": []
  },
  {
   "cell_type": "code",
   "execution_count": 158,
   "metadata": {},
   "outputs": [],
   "source": [
    "needle = haystack[0]"
   ]
  },
  {
   "cell_type": "code",
   "execution_count": 160,
   "metadata": {},
   "outputs": [],
   "source": [
    "str_index = haystack.index(needle,1)"
   ]
  },
  {
   "cell_type": "code",
   "execution_count": 161,
   "metadata": {},
   "outputs": [],
   "source": [
    "substr = haystack[0:str_index]"
   ]
  },
  {
   "cell_type": "code",
   "execution_count": 210,
   "metadata": {},
   "outputs": [],
   "source": [
    "def repeatedSubstringPattern(haystack):\n",
    "    RP = 1\n",
    "    try:\n",
    "        while RP <= len(haystack) // 2:\n",
    "            substr = haystack[0:RP]\n",
    "            if haystack.replace(substr,'') == '':\n",
    "                return True\n",
    "            else:\n",
    "                RP += 1\n",
    "    except:\n",
    "        return False\n",
    "    return False"
   ]
  },
  {
   "cell_type": "code",
   "execution_count": 213,
   "metadata": {},
   "outputs": [
    {
     "data": {
      "text/plain": [
       "False"
      ]
     },
     "execution_count": 213,
     "metadata": {},
     "output_type": "execute_result"
    }
   ],
   "source": [
    "hay = \"a\"\n",
    "repeatedSubstringPattern(hay)"
   ]
  },
  {
   "cell_type": "code",
   "execution_count": 185,
   "metadata": {},
   "outputs": [],
   "source": [
    "hay = 'abcabc'"
   ]
  },
  {
   "cell_type": "code",
   "execution_count": 202,
   "metadata": {},
   "outputs": [
    {
     "data": {
      "text/plain": [
       "''"
      ]
     },
     "execution_count": 202,
     "metadata": {},
     "output_type": "execute_result"
    }
   ],
   "source": [
    "hay[0:0]"
   ]
  },
  {
   "cell_type": "code",
   "execution_count": 214,
   "metadata": {},
   "outputs": [
    {
     "data": {
      "text/plain": [
       "'abcabcabcabc'"
      ]
     },
     "execution_count": 214,
     "metadata": {},
     "output_type": "execute_result"
    }
   ],
   "source": [
    "'abcabc' + 'abcabc'"
   ]
  },
  {
   "cell_type": "code",
   "execution_count": 196,
   "metadata": {},
   "outputs": [
    {
     "data": {
      "text/plain": [
       "'a'"
      ]
     },
     "execution_count": 196,
     "metadata": {},
     "output_type": "execute_result"
    }
   ],
   "source": [
    "'bcabcabcab'"
   ]
  },
  {
   "cell_type": "code",
   "execution_count": 201,
   "metadata": {},
   "outputs": [
    {
     "data": {
      "text/plain": [
       "5"
      ]
     },
     "execution_count": 201,
     "metadata": {},
     "output_type": "execute_result"
    }
   ],
   "source": [
    "11//2"
   ]
  },
  {
   "cell_type": "code",
   "execution_count": 216,
   "metadata": {},
   "outputs": [
    {
     "data": {
      "text/plain": [
       "2.25"
      ]
     },
     "execution_count": 216,
     "metadata": {},
     "output_type": "execute_result"
    }
   ],
   "source": [
    "9 / 4"
   ]
  },
  {
   "cell_type": "code",
   "execution_count": 217,
   "metadata": {},
   "outputs": [],
   "source": [
    "A = \"abc\"\n",
    "B = \"cabcabca\""
   ]
  },
  {
   "cell_type": "code",
   "execution_count": 218,
   "metadata": {},
   "outputs": [
    {
     "data": {
      "text/plain": [
       "3"
      ]
     },
     "execution_count": 218,
     "metadata": {},
     "output_type": "execute_result"
    }
   ],
   "source": [
    "len(B) // len(A) + 2"
   ]
  },
  {
   "cell_type": "code",
   "execution_count": 222,
   "metadata": {},
   "outputs": [],
   "source": [
    "for i in range(4, 1):\n",
    "    print(i)"
   ]
  },
  {
   "cell_type": "code",
   "execution_count": 284,
   "metadata": {},
   "outputs": [],
   "source": [
    "a,b = [1,3,5,6], 7"
   ]
  },
  {
   "cell_type": "code",
   "execution_count": null,
   "metadata": {},
   "outputs": [],
   "source": []
  },
  {
   "cell_type": "code",
   "execution_count": 291,
   "metadata": {},
   "outputs": [],
   "source": [
    "def Numcheck(a, b):\n",
    "    indexP = 0\n",
    "    if b < a[0]:\n",
    "        return 0\n",
    "    elif b > a[-1]:\n",
    "        return len(a)\n",
    "    for i in range(len(a) - 1):\n",
    "        print(i)\n",
    "        if b == a[i]:\n",
    "            return i\n",
    "        elif b > a[i] and b < a[i+1]:\n",
    "            return i+1"
   ]
  },
  {
   "cell_type": "code",
   "execution_count": 304,
   "metadata": {},
   "outputs": [],
   "source": [
    "def isBadVersion(x):\n",
    "    if x == 5:\n",
    "        return True\n",
    "    else:\n",
    "        return False"
   ]
  },
  {
   "cell_type": "code",
   "execution_count": 305,
   "metadata": {},
   "outputs": [],
   "source": [
    "def firstBadVersion(n):\n",
    "    x = 1\n",
    "    x = n // 2\n",
    "    while x != n:\n",
    "        if isBadVersion(x):\n",
    "            n = x\n",
    "            x = n // 2\n",
    "        else:\n",
    "            x = (x + n) // 2"
   ]
  },
  {
   "cell_type": "code",
   "execution_count": 307,
   "metadata": {},
   "outputs": [],
   "source": [
    "def complex(a,n):\n",
    "    return a**n"
   ]
  },
  {
   "cell_type": "code",
   "execution_count": 312,
   "metadata": {},
   "outputs": [
    {
     "data": {
      "text/plain": [
       "33554432"
      ]
     },
     "execution_count": 312,
     "metadata": {},
     "output_type": "execute_result"
    }
   ],
   "source": [
    "complex(2,25)"
   ]
  },
  {
   "cell_type": "code",
   "execution_count": null,
   "metadata": {},
   "outputs": [],
   "source": []
  }
 ],
 "metadata": {
  "kernelspec": {
   "display_name": "Python 3",
   "language": "python",
   "name": "python3"
  },
  "language_info": {
   "codemirror_mode": {
    "name": "ipython",
    "version": 3
   },
   "file_extension": ".py",
   "mimetype": "text/x-python",
   "name": "python",
   "nbconvert_exporter": "python",
   "pygments_lexer": "ipython3",
   "version": "3.6.8"
  }
 },
 "nbformat": 4,
 "nbformat_minor": 2
}
