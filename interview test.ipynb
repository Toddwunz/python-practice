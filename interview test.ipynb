{
 "cells": [
  {
   "cell_type": "code",
   "execution_count": 268,
   "metadata": {},
   "outputs": [
    {
     "name": "stdout",
     "output_type": "stream",
     "text": [
      "1\n",
      "2\n",
      "site\n",
      "4\n",
      "host\n",
      "site\n",
      "7\n",
      "8\n",
      "site\n"
     ]
    }
   ],
   "source": [
    "for i in range(1,10):\n",
    "        a,b = i%3,i%5\n",
    "        if a == 0 and b == 0:\n",
    "            print('sitehost')\n",
    "        elif a == 0:\n",
    "            print('site')\n",
    "        elif b == 0:\n",
    "            print('host')\n",
    "        else:\n",
    "            print(i)"
   ]
  },
  {
   "cell_type": "code",
   "execution_count": 269,
   "metadata": {},
   "outputs": [
    {
     "name": "stdout",
     "output_type": "stream",
     "text": [
      "1\n",
      "2\n",
      "Site\n",
      "4\n",
      "Host\n",
      "Site\n",
      "7\n",
      "8\n",
      "Site\n"
     ]
    }
   ],
   "source": [
    "#!/usr/bin/env python3\n",
    "for i in range(1,10):\n",
    "    site = i%3\n",
    "    host = i%5\n",
    "    if site == 0 and host == 0:\n",
    "        print('SiteHost')\n",
    "    elif site == 0:\n",
    "        print('Site')\n",
    "    elif host == 0:\n",
    "        print('Host')\n",
    "    else:\n",
    "        print(i) "
   ]
  },
  {
   "cell_type": "code",
   "execution_count": null,
   "metadata": {},
   "outputs": [],
   "source": []
  },
  {
   "cell_type": "code",
   "execution_count": 271,
   "metadata": {},
   "outputs": [
    {
     "name": "stdout",
     "output_type": "stream",
     "text": [
      "1\n",
      "2\n",
      "Site\n",
      "4\n",
      "Host\n",
      "Site\n",
      "7\n",
      "8\n",
      "Site\n"
     ]
    }
   ],
   "source": [
    "for i in range(1,10):\n",
    "    site = i%3\n",
    "    host = i%5\n",
    "    if site == 0 and host == 0:\n",
    "        print('SiteHost')\n",
    "    elif site == 0:\n",
    "        print('Site')\n",
    "    elif host == 0:\n",
    "        print('Host')\n",
    "    else:\n",
    "        print(i)"
   ]
  },
  {
   "cell_type": "code",
   "execution_count": 273,
   "metadata": {},
   "outputs": [],
   "source": [
    "def longest(s1, s2):\n",
    "    lst = list(set(s1+s2))\n",
    "    return lst.sort()\n",
    "\n",
    "a = \"xyaabbbccccdefww\" \n",
    "b = \"xxxxyyyyabklmopq\"\n",
    "lst = list(set(a+b))"
   ]
  },
  {
   "cell_type": "code",
   "execution_count": 274,
   "metadata": {},
   "outputs": [],
   "source": [
    "lst.sort()"
   ]
  },
  {
   "cell_type": "code",
   "execution_count": 275,
   "metadata": {},
   "outputs": [
    {
     "data": {
      "text/plain": [
       "['a', 'b', 'c', 'd', 'e', 'f', 'k', 'l', 'm', 'o', 'p', 'q', 'w', 'x', 'y']"
      ]
     },
     "execution_count": 275,
     "metadata": {},
     "output_type": "execute_result"
    }
   ],
   "source": [
    "lst"
   ]
  },
  {
   "cell_type": "code",
   "execution_count": 61,
   "metadata": {},
   "outputs": [],
   "source": [
    "aa=\"4556364607935616\""
   ]
  },
  {
   "cell_type": "code",
   "execution_count": 276,
   "metadata": {},
   "outputs": [],
   "source": [
    "def maskify(cc):\n",
    "    lst = []\n",
    "    for i in cc[0:-4]:\n",
    "        lst.append('#')\n",
    "    lst.append(cc[-4:])\n",
    "    return ''.join(lst)"
   ]
  },
  {
   "cell_type": "code",
   "execution_count": 277,
   "metadata": {},
   "outputs": [],
   "source": [
    "lst = str(123124)"
   ]
  },
  {
   "cell_type": "code",
   "execution_count": 176,
   "metadata": {},
   "outputs": [],
   "source": [
    "line=' . ' "
   ]
  },
  {
   "cell_type": "code",
   "execution_count": 159,
   "metadata": {},
   "outputs": [],
   "source": [
    "import re"
   ]
  },
  {
   "cell_type": "code",
   "execution_count": 177,
   "metadata": {},
   "outputs": [],
   "source": [
    "words = re.split('  +',line)"
   ]
  },
  {
   "cell_type": "code",
   "execution_count": 183,
   "metadata": {},
   "outputs": [
    {
     "name": "stdout",
     "output_type": "stream",
     "text": [
      " . \n"
     ]
    }
   ],
   "source": [
    "for i in words:\n",
    "    i.split()\n",
    "    print(i)"
   ]
  },
  {
   "cell_type": "code",
   "execution_count": 141,
   "metadata": {},
   "outputs": [],
   "source": [
    "MORSE_CODE = {'....':'H', '.':'E','-.--':'Y'}"
   ]
  },
  {
   "cell_type": "code",
   "execution_count": 158,
   "metadata": {},
   "outputs": [],
   "source": [
    "def Morsecode(char):\n",
    "    return MORSE_CODE[char]"
   ]
  },
  {
   "cell_type": "code",
   "execution_count": 175,
   "metadata": {},
   "outputs": [
    {
     "name": "stdout",
     "output_type": "stream",
     "text": [
      "HEY\n"
     ]
    }
   ],
   "source": [
    "words = re.split('  +',line)\n",
    "for item in words:\n",
    "    chars = re.split(' ',item)\n",
    "    r = map(Morsecode,chars)\n",
    "    print(''.join(list(r)))"
   ]
  },
  {
   "cell_type": "code",
   "execution_count": 187,
   "metadata": {},
   "outputs": [
    {
     "data": {
      "text/plain": [
       "['A', 'B', 'C', ' ']"
      ]
     },
     "execution_count": 187,
     "metadata": {},
     "output_type": "execute_result"
    }
   ],
   "source": [
    "list(filter(None,['A', '', 'B','C',' ']))"
   ]
  },
  {
   "cell_type": "code",
   "execution_count": 4,
   "metadata": {},
   "outputs": [],
   "source": [
    "ts_str = 'codewars  is  nice'"
   ]
  },
  {
   "cell_type": "code",
   "execution_count": 5,
   "metadata": {},
   "outputs": [
    {
     "data": {
      "text/plain": [
       "18"
      ]
     },
     "execution_count": 5,
     "metadata": {},
     "output_type": "execute_result"
    }
   ],
   "source": [
    "len(ts_str)"
   ]
  },
  {
   "cell_type": "code",
   "execution_count": 6,
   "metadata": {},
   "outputs": [],
   "source": [
    "import string"
   ]
  },
  {
   "cell_type": "code",
   "execution_count": 264,
   "metadata": {},
   "outputs": [],
   "source": [
    "lst = [[5, 3, 4, 6, 7, 8, 9, 1, 2],\n",
    " [6, 7, 2, 1, 9, 5, 3, 4, 8],\n",
    " [1, 9, 8, 3, 4, 2, 5, 6, 7],\n",
    " [8, 5, 9, 7, 6, 1, 4, 2, 3],\n",
    " [4, 2, 6, 8, 5, 3, 7, 9, 1],\n",
    " [7, 1, 3, 9, 2, 4, 8, 5, 6],\n",
    " [9, 6, 1, 5, 3, 7, 2, 8, 4],\n",
    " [2, 8, 7, 4, 1, 9, 6, 3, 5],\n",
    " [3, 4, 5, 2, 8, 6, 1, 7, 9]]"
   ]
  },
  {
   "cell_type": "code",
   "execution_count": 258,
   "metadata": {},
   "outputs": [],
   "source": [
    "def validSolution(board):\n",
    "    for rowlst in board:\n",
    "        if sudokuchk(rowlst):\n",
    "            return False\n",
    "    for n in range(0,81,9): \n",
    "        columlst = [board[n][m] for m in range(9) for n in range(9)][n:n+9]\n",
    "        if sudokuchk(columlst):\n",
    "            return False\n",
    "    chklist = [board[k][i:i+3] for i in range(0,9,3) for k in range(9)]\n",
    "    for i in range(0,27,3):\n",
    "        tmplist = [num for k in chklist[i:i+3] for num in k]\n",
    "        if sudokuchk(tmplist):\n",
    "            return False\n",
    "    else:\n",
    "        return True\n",
    "\n",
    "def sudokuchk(lst):\n",
    "    for v in range(1,10):\n",
    "        if lst.count(v) > 1:\n",
    "            return 1\n",
    "    else:\n",
    "        return 0"
   ]
  },
  {
   "cell_type": "code",
   "execution_count": 259,
   "metadata": {},
   "outputs": [
    {
     "data": {
      "text/plain": [
       "False"
      ]
     },
     "execution_count": 259,
     "metadata": {},
     "output_type": "execute_result"
    }
   ],
   "source": [
    "validSolution(lst)"
   ]
  },
  {
   "cell_type": "code",
   "execution_count": 266,
   "metadata": {},
   "outputs": [
    {
     "data": {
      "text/plain": [
       "[[5, 3, 4, 6, 7, 8, 9, 1, 2],\n",
       " [6, 7, 2, 1, 9, 5, 3, 4, 8],\n",
       " [1, 9, 8, 3, 4, 2, 5, 6, 7],\n",
       " [8, 5, 9, 7, 6, 1, 4, 2, 3],\n",
       " [4, 2, 6, 8, 5, 3, 7, 9, 1],\n",
       " [7, 1, 3, 9, 2, 4, 8, 5, 6],\n",
       " [9, 6, 1, 5, 3, 7, 2, 8, 4],\n",
       " [2, 8, 7, 4, 1, 9, 6, 3, 5],\n",
       " [3, 4, 5, 2, 8, 6, 1, 7, 9]]"
      ]
     },
     "execution_count": 266,
     "metadata": {},
     "output_type": "execute_result"
    }
   ],
   "source": [
    "lst"
   ]
  },
  {
   "cell_type": "code",
   "execution_count": 267,
   "metadata": {},
   "outputs": [
    {
     "name": "stdout",
     "output_type": "stream",
     "text": [
      "(5, 6, 1, 8, 4, 7, 9, 2, 3)\n",
      "(3, 7, 9, 5, 2, 1, 6, 8, 4)\n",
      "(4, 2, 8, 9, 6, 3, 1, 7, 5)\n",
      "(6, 1, 3, 7, 8, 9, 5, 4, 2)\n",
      "(7, 9, 4, 6, 5, 2, 3, 1, 8)\n",
      "(8, 5, 2, 1, 3, 4, 7, 9, 6)\n",
      "(9, 3, 5, 4, 7, 8, 2, 6, 1)\n",
      "(1, 4, 6, 2, 9, 5, 8, 3, 7)\n",
      "(2, 8, 7, 3, 1, 6, 4, 5, 9)\n"
     ]
    }
   ],
   "source": [
    "for i in zip(*lst):\n",
    "    print(i)"
   ]
  },
  {
   "cell_type": "code",
   "execution_count": null,
   "metadata": {},
   "outputs": [],
   "source": []
  },
  {
   "cell_type": "code",
   "execution_count": 263,
   "metadata": {},
   "outputs": [
    {
     "name": "stdout",
     "output_type": "stream",
     "text": [
      "(1, 6, 1, 8, 4, 7, 9, 2, 3)\n",
      "(3, 7, 9, 5, 2, 1, 6, 8, 4)\n",
      "(4, 2, 8, 9, 6, 3, 1, 7, 5)\n",
      "(6, 1, 3, 7, 8, 9, 5, 4, 2)\n",
      "(7, 9, 4, 6, 5, 2, 3, 1, 8)\n",
      "(8, 5, 2, 1, 3, 4, 7, 9, 6)\n",
      "(9, 3, 5, 4, 7, 8, 2, 6, 1)\n",
      "(1, 4, 6, 2, 9, 5, 8, 3, 7)\n",
      "(2, 8, 7, 3, 1, 6, 4, 5, 9)\n"
     ]
    }
   ],
   "source": []
  },
  {
   "cell_type": "code",
   "execution_count": null,
   "metadata": {},
   "outputs": [],
   "source": []
  }
 ],
 "metadata": {
  "kernelspec": {
   "display_name": "Python 3",
   "language": "python",
   "name": "python3"
  },
  "language_info": {
   "codemirror_mode": {
    "name": "ipython",
    "version": 3
   },
   "file_extension": ".py",
   "mimetype": "text/x-python",
   "name": "python",
   "nbconvert_exporter": "python",
   "pygments_lexer": "ipython3",
   "version": "3.6.8"
  }
 },
 "nbformat": 4,
 "nbformat_minor": 2
}
