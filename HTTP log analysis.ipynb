{
 "cells": [
  {
   "cell_type": "code",
   "execution_count": 3,
   "metadata": {},
   "outputs": [],
   "source": [
    "line = '192.168.56.1 - - [30/Aug/2018:13:09:09 -0400] \"GET /index.php?=PHPE9568F35-D428-11d2-A769-00AA001ACF42 HTTP/1.1\" 200 2146 \"http://192.168.56.101/\" \"Mozilla/5.0 (Windows NT 10.0; Win64; x64) AppleWebKit/537.36 (KHTML, like Gecko) Chrome/66.0.3359.181 Safari/537.36\"'"
   ]
  },
  {
   "cell_type": "code",
   "execution_count": 4,
   "metadata": {},
   "outputs": [
    {
     "data": {
      "text/plain": [
       "'192.168.56.1 - - [30/Aug/2018:13:09:09 -0400] \"GET /index.php?=PHPE9568F35-D428-11d2-A769-00AA001ACF42 HTTP/1.1\" 200 2146 \"http://192.168.56.101/\" \"Mozilla/5.0 (Windows NT 10.0; Win64; x64) AppleWebKit/537.36 (KHTML, like Gecko) Chrome/66.0.3359.181 Safari/537.36\"'"
      ]
     },
     "execution_count": 4,
     "metadata": {},
     "output_type": "execute_result"
    }
   ],
   "source": [
    "line"
   ]
  },
  {
   "cell_type": "code",
   "execution_count": 22,
   "metadata": {},
   "outputs": [],
   "source": [
    "from collections import namedtuple\n",
    "import datetime\n",
    "Request = namedtuple('Request',['method','url','version'])\n",
    "Mapitem = namedtuple('Mapitem',['name','convert'])\n",
    "\n",
    "mapping = [\n",
    "    Mapitem('remote',lambda x:x),\n",
    "    Mapitem('',None),\n",
    "    Mapitem('',None),\n",
    "    Mapitem('time',lambda x:datetime.datetime.strptime(x, \"%d/%b/%Y:%H:%M:%S %z\")),\n",
    "    Mapitem('request',lambda x:Request(*x.split())),\n",
    "    Mapitem('status',int),\n",
    "    Mapitem('length',int),\n",
    "    Mapitem('address',lambda x:x),\n",
    "    Mapitem('ua',lambda x:x)\n",
    "]\n",
    "\n",
    "def extract(line):\n",
    "    tmp = []\n",
    "    ret = []\n",
    "#    names=['remote','','','time','request','status','length','address','ua']\n",
    "    split = True\n",
    "    for c in line:\n",
    "        if c == \"[\":\n",
    "            split = False\n",
    "            continue\n",
    "        if c == \"]\":\n",
    "            split = True\n",
    "            continue\n",
    "        if c == '\"':\n",
    "            split = not split\n",
    "            continue\n",
    "        if c ==\" \" and split:\n",
    "            ret.append(''.join(tmp))\n",
    "            tmp.clear()\n",
    "        else:\n",
    "            tmp.append(c)\n",
    "    ret.append(''.join(tmp))\n",
    "#    reasult = dict(zip(names,ret))\n",
    "#    reasult.pop('')\n",
    "    reasult = dict()\n",
    "    for k,item in enumerate(mapping):\n",
    "        if item.name:\n",
    "            reasult[item.name] = item.convert(ret[k]) \n",
    "    return reasult"
   ]
  },
  {
   "cell_type": "code",
   "execution_count": 23,
   "metadata": {},
   "outputs": [
    {
     "data": {
      "text/plain": [
       "{'address': 'http://192.168.56.101/',\n",
       " 'length': 2146,\n",
       " 'remote': '192.168.56.1',\n",
       " 'request': Request(method='GET', url='/index.php?=PHPE9568F35-D428-11d2-A769-00AA001ACF42', version='HTTP/1.1'),\n",
       " 'status': 200,\n",
       " 'time': datetime.datetime(2018, 8, 30, 13, 9, 9, tzinfo=datetime.timezone(datetime.timedelta(-1, 72000))),\n",
       " 'ua': 'Mozilla/5.0 (Windows NT 10.0; Win64; x64) AppleWebKit/537.36 (KHTML, like Gecko) Chrome/66.0.3359.181 Safari/537.36'}"
      ]
     },
     "execution_count": 23,
     "metadata": {},
     "output_type": "execute_result"
    }
   ],
   "source": [
    "extract(line)"
   ]
  },
  {
   "cell_type": "markdown",
   "metadata": {},
   "source": [
    "## 以上的程序对数据的格式要求很高"
   ]
  },
  {
   "cell_type": "markdown",
   "metadata": {},
   "source": [
    "#正则表达式,文本处理的强大工具\n",
    "#一个强大的工具,但也有多种实现方式\n",
    "#BRE 基础正则表达式\n",
    "#ERE 扩展正则表达式\n",
    "#PCRE 以及PCRE的各种方言: perl 兼容正则表达式,功能最强\n",
    "#python是sre,是pcre的一个子集"
   ]
  },
  {
   "cell_type": "code",
   "execution_count": 25,
   "metadata": {},
   "outputs": [
    {
     "data": {
      "text/plain": [
       "'192.168.56.1 - - [30/Aug/2018:13:09:09 -0400] \"GET /index.php?=PHPE9568F35-D428-11d2-A769-00AA001ACF42 HTTP/1.1\" 200 2146 \"http://192.168.56.101/\" \"Mozilla/5.0 (Windows NT 10.0; Win64; x64) AppleWebKit/537.36 (KHTML, like Gecko) Chrome/66.0.3359.181 Safari/537.36\"'"
      ]
     },
     "execution_count": 25,
     "metadata": {},
     "output_type": "execute_result"
    }
   ],
   "source": [
    "line"
   ]
  },
  {
   "cell_type": "code",
   "execution_count": 26,
   "metadata": {},
   "outputs": [],
   "source": [
    "import re"
   ]
  },
  {
   "cell_type": "code",
   "execution_count": 44,
   "metadata": {},
   "outputs": [],
   "source": [
    "regex = r'(?P<remote>\\d{1,3}\\.\\d{1,3}\\.\\d{1,3}\\.\\d{1,3}) - - \\[(?P<time>.*)\\] \"(?P<method>.*)\" (?P<status>\\d+) (?P<length>\\d+) \"(?P<adress>.*)\" \"(?P<ua>.*)\"'"
   ]
  },
  {
   "cell_type": "code",
   "execution_count": 67,
   "metadata": {},
   "outputs": [
    {
     "name": "stdout",
     "output_type": "stream",
     "text": [
      "{'adress': 'http://192.168.56.101/', 'status': 200, 'method': 'GET /index.php?=PHPE9568F35-D428-11d2-A769-00AA001ACF42 HTTP/1.1', 'remote': '192.168.56.1', 'length': 2146, 'time': datetime.datetime(2018, 8, 30, 13, 9, 9, tzinfo=datetime.timezone(datetime.timedelta(-1, 72000))), 'ua': 'Mozilla/5.0 (Windows NT 10.0; Win64; x64) AppleWebKit/537.36 (KHTML, like Gecko) Chrome/66.0.3359.181 Safari/537.36'}\n"
     ]
    }
   ],
   "source": [
    "Request = namedtuple('Request',['method','url','version'])\n",
    "mapping = {\n",
    "    'time': lambda x:datetime.datetime.strptime(x, \"%d/%b/%Y:%H:%M:%S %z\"),\n",
    "    'request': lambda x:Request(*x.split()),\n",
    "    'status': int,\n",
    "    'length': int,\n",
    "}\n",
    "m = re.match(regex,line)#\n",
    "if m:\n",
    "    ret = m.groupdict()\n",
    "    result = {}\n",
    "    for k,v in ret.items():\n",
    "        result[k] = mapping.get(k, lambda x:x)(v)\n",
    "    print(result)"
   ]
  },
  {
   "cell_type": "code",
   "execution_count": 2,
   "metadata": {},
   "outputs": [],
   "source": [
    "#the difference between re.match and re.search \n",
    "import re\n",
    "text = 'abcdef'\n",
    "re.match('b',text) #match 从头匹配"
   ]
  },
  {
   "cell_type": "code",
   "execution_count": 3,
   "metadata": {},
   "outputs": [
    {
     "data": {
      "text/plain": [
       "<_sre.SRE_Match object; span=(1, 2), match='b'>"
      ]
     },
     "execution_count": 3,
     "metadata": {},
     "output_type": "execute_result"
    }
   ],
   "source": [
    "re.search('b',text) #search可以从任意位置匹配"
   ]
  },
  {
   "cell_type": "markdown",
   "metadata": {},
   "source": [
    "## 滑动窗口的实现"
   ]
  },
  {
   "cell_type": "code",
   "execution_count": 1,
   "metadata": {},
   "outputs": [],
   "source": [
    "import time\n",
    "import datetime\n",
    "from collections import namedtuple\n",
    "import queue\n",
    "import random\n",
    "import time\n",
    "\n",
    "Handler = namedtuple('Handler',['handle','notify'])\n",
    "q = queue.Queue()\n",
    "\n",
    "def source():\n",
    "    while True:\n",
    "        yield({'time':datetime.datetime.now(),'value':random.randint(0,100)})\n",
    "        time.sleep(1)\n",
    "\n",
    "def handler(items):\n",
    "    values = [x['value'] for x in items]\n",
    "    print(sum(values) / len(values))        \n",
    "\n",
    "def window(source, handler:Handler,interval:int,width:int):\n",
    "    store = []\n",
    "    start = datetime.datetime.now()\n",
    "    while True:\n",
    "        data = next(source)\n",
    "        current = datetime.datetime.now()\n",
    "        if data:\n",
    "            store.append(data)\n",
    "            current = data['time']\n",
    "        if (current - start).total_seconds() >= interval:\n",
    "            start = current\n",
    "            handler(store)\n",
    "            dt = current - datetime.timedelta(seconds=width)\n",
    "            store = [x for x in store if x['time'] > dt]\n",
    "            print(store)"
   ]
  },
  {
   "cell_type": "code",
   "execution_count": 2,
   "metadata": {},
   "outputs": [],
   "source": [
    "s = source()"
   ]
  },
  {
   "cell_type": "code",
   "execution_count": 6,
   "metadata": {},
   "outputs": [
    {
     "data": {
      "text/plain": [
       "<generator object source at 0x7fcd4f7fd6d0>"
      ]
     },
     "execution_count": 6,
     "metadata": {},
     "output_type": "execute_result"
    }
   ],
   "source": [
    "for i in `ls *.m3u8`; \n",
    "do\n",
    "filename=`echo \"$i\" |cut -d\".\" -f1`\n",
    "echo \"ffmpeg -i $i -c copy -bsf:a aac_adtstoasc $filename.mp4;\"\n",
    "done"
   ]
  },
  {
   "cell_type": "code",
   "execution_count": null,
   "metadata": {},
   "outputs": [],
   "source": [
    "for i in range(11):\n",
    "    print(q.get())"
   ]
  },
  {
   "cell_type": "code",
   "execution_count": null,
   "metadata": {},
   "outputs": [],
   "source": [
    "q.get()"
   ]
  },
  {
   "cell_type": "code",
   "execution_count": 9,
   "metadata": {},
   "outputs": [],
   "source": [
    "l = []"
   ]
  },
  {
   "cell_type": "code",
   "execution_count": null,
   "metadata": {},
   "outputs": [],
   "source": []
  }
 ],
 "metadata": {
  "kernelspec": {
   "display_name": "Python 3",
   "language": "python",
   "name": "python3"
  },
  "language_info": {
   "codemirror_mode": {
    "name": "ipython",
    "version": 3
   },
   "file_extension": ".py",
   "mimetype": "text/x-python",
   "name": "python",
   "nbconvert_exporter": "python",
   "pygments_lexer": "ipython3",
   "version": "3.5.3"
  }
 },
 "nbformat": 4,
 "nbformat_minor": 2
}
