{
 "cells": [
  {
   "cell_type": "code",
   "execution_count": 1,
   "metadata": {},
   "outputs": [],
   "source": [
    "from flask import Flask\n",
    "app = Flask(__name__)\n",
    "\n",
    "@app.route(\"/\")\n",
    "def hello():\n",
    "    return \"Hello World!\""
   ]
  },
  {
   "cell_type": "code",
   "execution_count": 107,
   "metadata": {},
   "outputs": [
    {
     "name": "stdout",
     "output_type": "stream",
     "text": [
      "{'34dd3c04020e41da73c0d3835de06697': ' /home/todd/josn.txt\\n', 'fb66f772a3adf436239e8f774b51c070': ' /home/todd/.python-version\\n', '754eee6573a9f6757b108b5127e636e8': ' /home/todd/eshop-eer.png\\n', '606db45736321e55337a68caa7c2bc3f': ' /home/todd/id_rsa.pub\\n', '96652cb14aa3e6b7e13aff815262f36d': ' /home/todd/id_rsa\\n', 'a5890ace30a3e84d9118196c161aeec2': ' /home/todd/synctest.txt\\n', 'fa6c81e3b299047f329a92e22ad50b80': ' /home/todd/week 5 excise.ipynb\\n', '1327bac3ce1ff6fd292a93ed3369cb77': ' /home/todd/hello.ipynb\\n', '2c3098354ae1ae841b00c5ebc7f89233': ' /home/todd/credentials\\n', 'ef5f3e0f5b6a0117367760a517c036df': ' /home/todd/hello.py\\n', '7b98d53d544095ada174178f945e4a0b': ' /home/todd/Untitled.ipynb\\n', '5367c77d624380638d845d80d55af125': ' /home/todd/config\\n', '1c4705d339ee0e289c7cf0a8bf658126': ' /home/todd/headlines.py\\n', '3c571ee7515f2a84e2b4c84c6bd735c8': ' /home/todd/nohup.out\\n', 'a74c4c1ce5d17072ddf532ba489dec68': ' /home/todd/练习.ipynb\\n'}\n",
      "{'34dd3c04020e41da73c0d3835de06697': ' /home/todd/josn.txt\\n', '606db45736321e55337a68caa7c2bc3f': ' /home/todd/id_rsa.pub\\n', '754eee6573a9f6757b108b5127e636e8': ' /home/todd/eshop-eer.png\\n', 'fb66f772a3adf436239e8f774b51c070': ' /home/todd/.python-version\\n', '96652cb14aa3e6b7e13aff815262f36d': ' /home/todd/id_rsa\\n', 'a5890ace30a3e84d9118196c161aeec2': ' /home/todd/synctest.txt\\n', 'fa6c81e3b299047f329a92e22ad50b80': ' /home/todd/week 5 excise.ipynb\\n', '1327bac3ce1ff6fd292a93ed3369cb77': ' /home/todd/hello.ipynb\\n', '2c3098354ae1ae841b00c5ebc7f89233': ' /home/todd/credentials\\n', 'ef5f3e0f5b6a0117367760a517c036df': ' /home/todd/hello.py\\n', '7b98d53d544095ada174178f945e4a0b': ' /home/todd/Untitled.ipynb\\n', '5367c77d624380638d845d80d55af125': ' /home/todd/config\\n', '1c4705d339ee0e289c7cf0a8bf658126': ' /home/todd/headlines.py\\n', '3c571ee7515f2a84e2b4c84c6bd735c8': ' /home/todd/nohup.out\\n', 'a74c4c1ce5d17072ddf532ba489dec68': ' /home/todd/练习.ipynb\\n'}\n"
     ]
    }
   ],
   "source": [
    "import hashlib\n",
    "import os\n",
    "from os import listdir\n",
    "from os.path import isfile, join\n",
    "import pickle\n",
    "dic={}\n",
    "mypath=\"/home/todd\"\n",
    "for f in listdir(mypath):\n",
    "    if isfile(f):\n",
    "       # k,v = subprocess.check_output([\"md5sum\", '\"/home/todd/{}\"'.format(f)],universal_newlines=True).split()\n",
    "        k,v = subprocess.check_output([\"md5sum\", \"/home/todd/{}\".format(f)],universal_newlines=True).split(' ',1)\n",
    "        dic[k]=v\n",
    "    else:\n",
    "        continue\n",
    "print(dic)\n",
    "f1 = open(\"/home/todd/josn.txt\",\"wb\")\n",
    "pickle.dump(dic, f1)\n",
    "f1.close()\n",
    "# load dict\n",
    "f2 = open(\"/home/todd/josn.txt\",\"rb\")\n",
    "load_list = pickle.load(f2)\n",
    "f2.close()"
   ]
  },
  {
   "cell_type": "code",
   "execution_count": 108,
   "metadata": {},
   "outputs": [
    {
     "data": {
      "text/plain": [
       "' /home/todd/eshop-eer.png\\n'"
      ]
     },
     "execution_count": 108,
     "metadata": {},
     "output_type": "execute_result"
    }
   ],
   "source": [
    "load_list.get('754eee6573a9f6757b108b5127e636e8')"
   ]
  },
  {
   "cell_type": "code",
   "execution_count": 31,
   "metadata": {},
   "outputs": [
    {
     "name": "stdout",
     "output_type": "stream",
     "text": [
      "httpd (pid  1879) is running...\n",
      "\n"
     ]
    },
    {
     "data": {
      "text/plain": [
       "0"
      ]
     },
     "execution_count": 31,
     "metadata": {},
     "output_type": "execute_result"
    }
   ],
   "source": [
    "output = os.popen('service httpd status', 'r')\n",
    "print(output.read())\n",
    "os.popen('service httpd status', 'r')"
   ]
  },
  {
   "cell_type": "code",
   "execution_count": 32,
   "metadata": {},
   "outputs": [
    {
     "data": {
      "text/plain": [
       "0"
      ]
     },
     "execution_count": 32,
     "metadata": {},
     "output_type": "execute_result"
    }
   ],
   "source": [
    "import subprocess\n",
    "from subprocess import  call\n",
    "call(\"ls\",shell=True)"
   ]
  },
  {
   "cell_type": "code",
   "execution_count": 97,
   "metadata": {},
   "outputs": [
    {
     "data": {
      "text/plain": [
       "['fa6c81e3b299047f329a92e22ad50b80', ' /home/todd/week 5 excise.ipynb\\n']"
      ]
     },
     "execution_count": 97,
     "metadata": {},
     "output_type": "execute_result"
    }
   ],
   "source": [
    "subprocess.check_output([\"md5sum\", \"/home/todd/week 5 excise.ipynb\"],universal_newlines=True).split(' ',1)"
   ]
  },
  {
   "cell_type": "code",
   "execution_count": 76,
   "metadata": {},
   "outputs": [],
   "source": [
    "k,v = subprocess.check_output([\"md5sum\", \"/home/todd/id_rsa.pub\"],universal_newlines=True).split()"
   ]
  },
  {
   "cell_type": "code",
   "execution_count": 77,
   "metadata": {},
   "outputs": [],
   "source": [
    " dic[k]=v"
   ]
  },
  {
   "cell_type": "code",
   "execution_count": 78,
   "metadata": {},
   "outputs": [
    {
     "data": {
      "text/plain": [
       "{'606db45736321e55337a68caa7c2bc3f': '/home/todd/id_rsa.pub'}"
      ]
     },
     "execution_count": 78,
     "metadata": {},
     "output_type": "execute_result"
    }
   ],
   "source": [
    "dic"
   ]
  },
  {
   "cell_type": "code",
   "execution_count": 79,
   "metadata": {},
   "outputs": [],
   "source": [
    "dic.get(v)"
   ]
  },
  {
   "cell_type": "code",
   "execution_count": null,
   "metadata": {},
   "outputs": [],
   "source": [
    "import hashlib\n",
    "import os\n",
    "from os import listdir\n",
    "from os.path import isfile, join\n",
    "import pickle\n",
    "dic={}\n",
    "f2 = open(\"/home/todd/josn.txt\",\"rb\")\n",
    "load_list = pickle.load(f2)\n",
    "f2.close()\n",
    "mypath=\"/home/todd\"\n",
    "for f in listdir(mypath):\n",
    "    if isfile(f):\n",
    "       # k,v = subprocess.check_output([\"md5sum\", '\"/home/todd/{}\"'.format(f)],universal_newlines=True).split()\n",
    "        k,v = subprocess.check_output([\"md5sum\", \"/home/todd/{}\".format(f)],universal_newlines=True).split(' ',1)\n",
    "        if load_list.get(k) !=''\n",
    "    else:\n",
    "        continue\n",
    "print(dic)\n",
    "f1 = open(\"/home/todd/josn.txt\",\"wb\")\n",
    "pickle.dump(dic, f1)\n",
    "f1.close()\n",
    "# load dict\n",
    "f2 = open(\"/home/todd/josn.txt\",\"rb\")\n",
    "load_list = pickle.load(f2)\n",
    "f2.close()"
   ]
  }
 ],
 "metadata": {
  "kernelspec": {
   "display_name": "Python 3",
   "language": "python",
   "name": "python3"
  },
  "language_info": {
   "codemirror_mode": {
    "name": "ipython",
    "version": 3
   },
   "file_extension": ".py",
   "mimetype": "text/x-python",
   "name": "python",
   "nbconvert_exporter": "python",
   "pygments_lexer": "ipython3",
   "version": "3.5.5"
  }
 },
 "nbformat": 4,
 "nbformat_minor": 2
}
