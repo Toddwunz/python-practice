{
 "cells": [
  {
   "cell_type": "code",
   "execution_count": 4,
   "metadata": {},
   "outputs": [
    {
     "ename": "ModuleNotFoundError",
     "evalue": "No module named 'requests'",
     "output_type": "error",
     "traceback": [
      "\u001b[0;31m---------------------------------------------------------------------------\u001b[0m",
      "\u001b[0;31mModuleNotFoundError\u001b[0m                       Traceback (most recent call last)",
      "\u001b[0;32m<ipython-input-4-dca22fd5c33b>\u001b[0m in \u001b[0;36m<module>\u001b[0;34m\u001b[0m\n\u001b[1;32m      3\u001b[0m \u001b[0;32mfrom\u001b[0m \u001b[0m__future__\u001b[0m \u001b[0;32mimport\u001b[0m \u001b[0municode_literals\u001b[0m\u001b[0;34m\u001b[0m\u001b[0;34m\u001b[0m\u001b[0m\n\u001b[1;32m      4\u001b[0m \u001b[0;32mimport\u001b[0m \u001b[0mdatetime\u001b[0m\u001b[0;34m\u001b[0m\u001b[0;34m\u001b[0m\u001b[0m\n\u001b[0;32m----> 5\u001b[0;31m \u001b[0;32mimport\u001b[0m \u001b[0mrequests\u001b[0m\u001b[0;34m\u001b[0m\u001b[0;34m\u001b[0m\u001b[0m\n\u001b[0m\u001b[1;32m      6\u001b[0m \u001b[0;32mimport\u001b[0m \u001b[0mfeedparser\u001b[0m\u001b[0;34m\u001b[0m\u001b[0;34m\u001b[0m\u001b[0m\n\u001b[1;32m      7\u001b[0m \u001b[0;32mfrom\u001b[0m \u001b[0mflask\u001b[0m \u001b[0;32mimport\u001b[0m \u001b[0mFlask\u001b[0m\u001b[0;34m,\u001b[0m \u001b[0mrender_template\u001b[0m\u001b[0;34m,\u001b[0m \u001b[0mrequests\u001b[0m\u001b[0;34m,\u001b[0m \u001b[0mmake_response\u001b[0m\u001b[0;34m\u001b[0m\u001b[0;34m\u001b[0m\u001b[0m\n",
      "\u001b[0;31mModuleNotFoundError\u001b[0m: No module named 'requests'"
     ]
    }
   ],
   "source": [
    "#!/usr/bin/python\n",
    "# -*- coding: UTF-8 -*-\n",
    "from __future__ import unicode_literals\n",
    "import datetime\n",
    "import requests\n",
    "import feedparser\n",
    "from flask import Flask, render_template, requests, make_response\n",
    "\n",
    "app = Flask(__name__)\n",
    "\n",
    "RSS_FEED = {\"zhihu\": \"https://www.zhihu.com/rss\",\n",
    "            \"netease\": \"http://news.163.com/special/00011K6L/rss_newsattitude.xml\",\n",
    "            \"songshuhui\": \"http://songshuhui.net/feed\",\n",
    "            \"ifeng\": \"http://news.ifeng.com/rss/index.xml\"}\n",
    "\n",
    "DEFAULTS = {'city': '北京',\n",
    "            'publication': 'zhihu'}\n",
    "\n",
    "WEATHERS = {\"北京\": 101010100,\n",
    "            \"上海\": 101020100,\n",
    "            \"广州\": 101280101,\n",
    "            \"深圳\": 101280601}\n",
    "\n",
    "\n",
    "def get_value_with_fallback(key):\n",
    "    if request.args.get(key):\n",
    "        return request.args.get(key)\n",
    "    if request.cookies.get(key):\n",
    "        return request.cookies.get(key)\n",
    "    return DEFAULTS[key]\n",
    "\n",
    "\n",
    "@app.route('/')\n",
    "def home():\n",
    "    publication = get_value_with_fallback('publication')\n",
    "    city = get_value_with_fallback('city')\n",
    "\n",
    "    weather = get_weather(city)\n",
    "    articles = get_news(publication)\n",
    "\n",
    "    response = make_response(render_template('home.html', articles=articles,\n",
    "                                             weather=weather))\n",
    "\n",
    "    expires = datetime.datetime.now() + datetime.timedelta(days=365)\n",
    "    response.set_cookie('publication',  publication, expires=expires)\n",
    "    response.set_cookie('city',  city, expires=expires)\n",
    "\n",
    "    return response\n",
    "\n",
    "\n",
    "def get_news(publication):\n",
    "    feed = feedparser.parse(RSS_FEED[publication])\n",
    "    return feed['entries']\n",
    "\n",
    "\n",
    "def get_weather(city):\n",
    "    code = WEATHERS.get(city, 101010100)\n",
    "    url = \"http://www.weather.com.cn/data/sk/{0}.html\".format(code)\n",
    "\n",
    "    r = requests.get(url)\n",
    "    r.encoding = 'utf-8'\n",
    "\n",
    "    data = r.json()['weatherinfo']\n",
    "    return dict(city=data['city'], temperature=data['temp'],\n",
    "                description=data['WD'])\n",
    "\n",
    "\n",
    "if __name__ == '__main__':\n",
    "    app.run(host='0.0.0.0', port=5000, debug=True)"
   ]
  },
  {
   "cell_type": "code",
   "execution_count": 5,
   "metadata": {},
   "outputs": [
    {
     "name": "stdout",
     "output_type": "stream",
     "text": [
      "b'\\x80\\x03}q\\x00(X \\x00\\x00\\x0034dd3c04020e41da73c0d3835de06697q\\x01X\\x15\\x00\\x00\\x00 /home/todd/josn.txt'\n",
      "b'q\\x02X \\x00\\x00\\x00fb66f772a3adf436239e8f774b51c070q\\x03X\\x1c\\x00\\x00\\x00 /home/todd/.python-version'\n",
      "b'q\\x04X \\x00\\x00\\x00754eee6573a9f6757b108b5127e636e8q\\x05X\\x1a\\x00\\x00\\x00 /home/todd/eshop-eer.png'\n",
      "b'q\\x06X \\x00\\x00\\x00606db45736321e55337a68caa7c2bc3fq\\x07X\\x17\\x00\\x00\\x00 /home/todd/id_rsa.pub'\n",
      "b'q\\x08X \\x00\\x00\\x0096652cb14aa3e6b7e13aff815262f36dq\\tX\\x13\\x00\\x00\\x00 /home/todd/id_rsa'\n",
      "b'q'\n",
      "b'X \\x00\\x00\\x00a5890ace30a3e84d9118196c161aeec2q\\x0bX\\x19\\x00\\x00\\x00 /home/todd/synctest.txt'\n",
      "b'q\\x0cX \\x00\\x00\\x00fa6c81e3b299047f329a92e22ad50b80q\\rX \\x00\\x00\\x00 /home/todd/week 5 excise.ipynb'\n",
      "b'q\\x0eX \\x00\\x00\\x001327bac3ce1ff6fd292a93ed3369cb77q\\x0fX\\x18\\x00\\x00\\x00 /home/todd/hello.ipynb'\n",
      "b'q\\x10X \\x00\\x00\\x002c3098354ae1ae841b00c5ebc7f89233q\\x11X\\x18\\x00\\x00\\x00 /home/todd/credentials'\n",
      "b'q\\x12X \\x00\\x00\\x00ef5f3e0f5b6a0117367760a517c036dfq\\x13X\\x15\\x00\\x00\\x00 /home/todd/hello.py'\n",
      "b'q\\x14X \\x00\\x00\\x007b98d53d544095ada174178f945e4a0bq\\x15X\\x1b\\x00\\x00\\x00 /home/todd/Untitled.ipynb'\n",
      "b'q\\x16X \\x00\\x00\\x005367c77d624380638d845d80d55af125q\\x17X\\x13\\x00\\x00\\x00 /home/todd/config'\n",
      "b'q\\x18X \\x00\\x00\\x001c4705d339ee0e289c7cf0a8bf658126q\\x19X\\x19\\x00\\x00\\x00 /home/todd/headlines.py'\n",
      "b'q\\x1aX \\x00\\x00\\x003c571ee7515f2a84e2b4c84c6bd735c8q\\x1bX\\x16\\x00\\x00\\x00 /home/todd/nohup.out'\n",
      "b'q\\x1cX \\x00\\x00\\x00a74c4c1ce5d17072ddf532ba489dec68q\\x1dX\\x19\\x00\\x00\\x00 /home/todd/\\xe7\\xbb\\x83\\xe4\\xb9\\xa0.ipynb'\n",
      "b'q\\x1eu.'\n"
     ]
    }
   ],
   "source": [
    "with open(\"./josn.txt\", 'rb') as f:\n",
    "    for line in f.readlines():\n",
    "        print(line.strip())"
   ]
  },
  {
   "cell_type": "code",
   "execution_count": 3,
   "metadata": {
    "collapsed": true
   },
   "outputs": [
    {
     "name": "stdout",
     "output_type": "stream",
     "text": [
      "Hello!\n",
      "Hi!\n",
      "Goodbye!\n"
     ]
    }
   ],
   "source": [
    "from io import StringIO\n",
    "f = StringIO('Hello!\\nHi!\\nGoodbye!')\n",
    "while True:\n",
    "     s = f.read()\n",
    "     if s == '':\n",
    "         break\n",
    "     print(s)"
   ]
  },
  {
   "cell_type": "code",
   "execution_count": 7,
   "metadata": {},
   "outputs": [],
   "source": [
    "import os"
   ]
  },
  {
   "cell_type": "code",
   "execution_count": 8,
   "metadata": {},
   "outputs": [
    {
     "data": {
      "text/plain": [
       "posix.uname_result(sysname='Linux', nodename='ip-172-31-23-17', release='4.14.77-70.59.amzn1.x86_64', version='#1 SMP Mon Nov 12 22:02:45 UTC 2018', machine='x86_64')"
      ]
     },
     "execution_count": 8,
     "metadata": {},
     "output_type": "execute_result"
    }
   ],
   "source": [
    "os.uname()"
   ]
  },
  {
   "cell_type": "code",
   "execution_count": 18,
   "metadata": {},
   "outputs": [
    {
     "name": "stdout",
     "output_type": "stream",
     "text": [
      "[1, 4, 9]\n"
     ]
    },
    {
     "name": "stderr",
     "output_type": "stream",
     "text": [
      "Process ForkPoolWorker-50:\n",
      "Process ForkPoolWorker-51:\n",
      "Traceback (most recent call last):\n",
      "Traceback (most recent call last):\n",
      "  File \"/home/ec2-user/.pyenv/versions/3.6.8/lib/python3.6/multiprocessing/queues.py\", line 334, in get\n",
      "    with self._rlock:\n",
      "  File \"/home/ec2-user/.pyenv/versions/3.6.8/lib/python3.6/multiprocessing/process.py\", line 258, in _bootstrap\n",
      "    self.run()\n",
      "  File \"/home/ec2-user/.pyenv/versions/3.6.8/lib/python3.6/multiprocessing/process.py\", line 93, in run\n",
      "    self._target(*self._args, **self._kwargs)\n",
      "  File \"/home/ec2-user/.pyenv/versions/3.6.8/lib/python3.6/multiprocessing/pool.py\", line 108, in worker\n",
      "    task = get()\n",
      "  File \"/home/ec2-user/.pyenv/versions/3.6.8/lib/python3.6/multiprocessing/process.py\", line 258, in _bootstrap\n",
      "    self.run()\n",
      "  File \"/home/ec2-user/.pyenv/versions/3.6.8/lib/python3.6/multiprocessing/process.py\", line 93, in run\n",
      "    self._target(*self._args, **self._kwargs)\n",
      "  File \"/home/ec2-user/.pyenv/versions/3.6.8/lib/python3.6/multiprocessing/pool.py\", line 108, in worker\n",
      "    task = get()\n",
      "  File \"/home/ec2-user/.pyenv/versions/3.6.8/lib/python3.6/multiprocessing/queues.py\", line 335, in get\n",
      "    res = self._reader.recv_bytes()\n",
      "  File \"/home/ec2-user/.pyenv/versions/3.6.8/lib/python3.6/multiprocessing/synchronize.py\", line 95, in __enter__\n",
      "    return self._semlock.__enter__()\n",
      "  File \"/home/ec2-user/.pyenv/versions/3.6.8/lib/python3.6/multiprocessing/connection.py\", line 216, in recv_bytes\n",
      "    buf = self._recv_bytes(maxlength)\n",
      "KeyboardInterrupt\n",
      "  File \"/home/ec2-user/.pyenv/versions/3.6.8/lib/python3.6/multiprocessing/connection.py\", line 407, in _recv_bytes\n",
      "    buf = self._recv(4)\n",
      "  File \"/home/ec2-user/.pyenv/versions/3.6.8/lib/python3.6/multiprocessing/connection.py\", line 379, in _recv\n",
      "    chunk = read(handle, remaining)\n",
      "KeyboardInterrupt\n"
     ]
    }
   ],
   "source": [
    "from multiprocessing import Pool\n",
    "\n",
    "def f(x):\n",
    "    return x*x\n",
    "\n",
    "if __name__ == '__main__':\n",
    "    p = Pool(2)\n",
    "    print(p.map(f, [1, 2, 3]))"
   ]
  },
  {
   "cell_type": "code",
   "execution_count": 12,
   "metadata": {},
   "outputs": [
    {
     "name": "stdout",
     "output_type": "stream",
     "text": [
      "Parent process 13565.\n",
      "Run task 2 (14058)...\n",
      "Run task 1 (14057)...\n",
      "Waiting for all subprocesses done...\n",
      "Run task 0 (14056)...\n",
      "Run task 3 (14059)...\n",
      "Task 0 runs 0.41 seconds.\n",
      "Run task 4 (14056)...\n",
      "Task 1 runs 1.02 seconds.\n",
      "Task 3 runs 1.48 seconds.\n",
      "Task 2 runs 1.52 seconds.\n",
      "Task 4 runs 1.81 seconds.\n",
      "All subprocesses done.\n"
     ]
    }
   ],
   "source": [
    "from multiprocessing import Pool\n",
    "import os, time, random\n",
    "\n",
    "def long_time_task(name):\n",
    "    print('Run task %s (%s)...' % (name, os.getpid()))\n",
    "    start = time.time()\n",
    "    time.sleep(random.random() * 3)\n",
    "    end = time.time()\n",
    "    print('Task %s runs %0.2f seconds.' % (name, (end - start)))\n",
    "\n",
    "if __name__=='__main__':\n",
    "    print('Parent process %s.' % os.getpid())\n",
    "    p = Pool(4)\n",
    "    for i in range(5):\n",
    "        p.apply_async(long_time_task, args=(i,))\n",
    "    print('Waiting for all subprocesses done...')\n",
    "    p.close()\n",
    "    p.join()\n",
    "    print('All subprocesses done.')"
   ]
  },
  {
   "cell_type": "code",
   "execution_count": null,
   "metadata": {},
   "outputs": [],
   "source": []
  }
 ],
 "metadata": {
  "kernelspec": {
   "display_name": "Python 3",
   "language": "python",
   "name": "python3"
  },
  "language_info": {
   "codemirror_mode": {
    "name": "ipython",
    "version": 3
   },
   "file_extension": ".py",
   "mimetype": "text/x-python",
   "name": "python",
   "nbconvert_exporter": "python",
   "pygments_lexer": "ipython3",
   "version": "3.6.8"
  }
 },
 "nbformat": 4,
 "nbformat_minor": 2
}
