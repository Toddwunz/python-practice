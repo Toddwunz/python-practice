{
 "cells": [
  {
   "cell_type": "code",
   "execution_count": 59,
   "metadata": {},
   "outputs": [],
   "source": [
    "def debase64(data:str)->bytes:\n",
    "    table='ABCDEFGHIJKLMNOPQRSTUVWXYZabcdefghijklmnopqrstuvwxyz0123456789+/'\n",
    "    decode = bytearray()\n",
    "    s = 0\n",
    "    for e in range(4,len(data)+1,4):\n",
    "        tmp = 0\n",
    "       ## print(\"s={},e={}\".format(s,e))\n",
    "        for i,c in enumerate(data[s:e]):\n",
    "            if c != \"=\":\n",
    "                ##print(c,i)\n",
    "                tmp += table.index(c) << 24 - (i+1)*6\n",
    "            else:\n",
    "                tmp += 0 << 24 - (i+1)*6\n",
    "        decode.extend(tmp.to_bytes(3,'big'))\n",
    "        s +=4\n",
    "    return bytes(decode.rstrip(b'\\x00'))"
   ]
  },
  {
   "cell_type": "code",
   "execution_count": 60,
   "metadata": {},
   "outputs": [
    {
     "data": {
      "text/plain": [
       "b'abcd'"
      ]
     },
     "execution_count": 60,
     "metadata": {},
     "output_type": "execute_result"
    }
   ],
   "source": [
    "e = 'YWJjZA=='\n",
    "debase64(e)"
   ]
  },
  {
   "cell_type": "markdown",
   "metadata": {},
   "source": [
    "*参数检查装饰器"
   ]
  },
  {
   "cell_type": "code",
   "execution_count": 1,
   "metadata": {},
   "outputs": [],
   "source": [
    "def add(x:int,y:int) ->int:\n",
    "    return x + y"
   ]
  },
  {
   "cell_type": "code",
   "execution_count": 2,
   "metadata": {},
   "outputs": [
    {
     "name": "stdout",
     "output_type": "stream",
     "text": [
      "odict_keys(['x', 'y'])\n"
     ]
    },
    {
     "data": {
      "text/plain": [
       "<Parameter \"x:int\">"
      ]
     },
     "execution_count": 2,
     "metadata": {},
     "output_type": "execute_result"
    }
   ],
   "source": [
    "import inspect\n",
    "add(3,4)\n",
    "parms = inspect.signature(add).parameters\n",
    "print(parms.keys())\n",
    "lst=list(parms.values())[0]\n",
    "lst\n",
    "#for i in lst:\n",
    "#    print(i)\n",
    "#list(parms.values())[0]\n",
    "lst"
   ]
  },
  {
   "cell_type": "code",
   "execution_count": 66,
   "metadata": {},
   "outputs": [
    {
     "data": {
      "text/plain": [
       "8"
      ]
     },
     "execution_count": 66,
     "metadata": {},
     "output_type": "execute_result"
    }
   ],
   "source": [
    "import functools\n",
    "functools.wraps\n",
    "functools.partial\n",
    "#partial 函数用来固定函数中的一个或多个参数\n",
    "new_add = functools.partial(add,y=3)\n",
    "new_add(5)"
   ]
  },
  {
   "cell_type": "code",
   "execution_count": 67,
   "metadata": {},
   "outputs": [],
   "source": [
    "import inspect\n",
    "import functools\n",
    "\n",
    "def para_check(fn):\n",
    "    @functools.wraps(fn)\n",
    "    def warp(*args,**kwargs):\n",
    "        sig = inspect.signature(fn)\n",
    "        parms = sig.parameters\n",
    "        for k,v in kwargs.items():\n",
    "            if not isinstance(v,parms[k].annotation) and parms[k].annotation != inspect._empty:\n",
    "                raise TypeError('parameter {} type required {},but type {}'.format(k,parms[k].annotation,type(v)))\n",
    "        for i,arg in enumerate(args):\n",
    "            para = list(parms.values())[i]\n",
    "            if not isinstance(arg,para.annotation) and para.annotation != inspect._empty:\n",
    "                raise TypeError('parameter {} type required {},but type {}'.format(arg,para.annotation,type(arg)))\n",
    "        return fn(*args,**kwargs)\n",
    "    return warp"
   ]
  },
  {
   "cell_type": "code",
   "execution_count": 68,
   "metadata": {},
   "outputs": [],
   "source": [
    "@para_check\n",
    "def add(x,y:int) ->int:\n",
    "    return x + y"
   ]
  },
  {
   "cell_type": "code",
   "execution_count": 69,
   "metadata": {},
   "outputs": [
    {
     "data": {
      "text/plain": [
       "3"
      ]
     },
     "execution_count": 69,
     "metadata": {},
     "output_type": "execute_result"
    }
   ],
   "source": [
    "add(1,2)"
   ]
  },
  {
   "cell_type": "markdown",
   "metadata": {},
   "source": [
    "## 带过期的LRU 缓存器装饰器：\n",
    "*FIFO:先进先出\n",
    "\n",
    "*LFU：Least Frequently Used 计数\n",
    "\n",
    "*LRU:Least recently used  计时\n",
    "\n",
    "*思路：Value 里加一个最后一次使用的时间戳"
   ]
  },
  {
   "cell_type": "code",
   "execution_count": 71,
   "metadata": {},
   "outputs": [],
   "source": [
    "import inspect\n",
    "import functools\n",
    "import datetime\n",
    "\n",
    "def cache(maxsize=128,expire=0):\n",
    "    def make_key(fn,args,kwargs):\n",
    "        ret = []\n",
    "        names = set()\n",
    "        params = inspect.signature(fn).parameters\n",
    "        keys = list(args.keys())\n",
    "        for i,arg in enumerate(args):\n",
    "            ret.append(keys[i],arg)\n",
    "            names.add(keys[i])\n",
    "        ret.extend(kwargs.itmes())\n",
    "        names.update(kwargs.keys())\n",
    "        for k,v in params.items():\n",
    "            if k not in names:\n",
    "                ret.append((k,v.default))\n",
    "        ret.sort(key=lambda x:x[0])\n",
    "        return '&'.join(['{}={}'.format(name,arg) for name,arg in ret])"
   ]
  },
  {
   "cell_type": "markdown",
   "metadata": {},
   "source": [
    "##求最大公约数算法\n",
    "```\n",
    "s1 = 'aaaba'\n",
    "s2 = 'aabaa'\n",
    "1, 1, 1, 0, 1\n",
    "1, 2, 2, 0, 1 \n",
    "0, 0, 0, 3, 0\n",
    "1, 1, 1, 0, 4 \n",
    "1, 2, 2, 0, 1\n",
    "```"
   ]
  },
  {
   "cell_type": "code",
   "execution_count": 74,
   "metadata": {},
   "outputs": [],
   "source": [
    "s1 = 'aaaba'\n",
    "s2 = 'aabaa'\n",
    "def lcs(s1,s2):\n",
    "    ml = 0\n",
    "    mi = 0\n",
    "    db = []\n",
    "    for a,x in enumerate(s1):\n",
    "        db.append([])\n",
    "        for b,y in enumerate(s2):\n",
    "            if x == y:\n",
    "                if a == 0 or b== 0:\n",
    "                    db[a].append(1)\n",
    "                else:\n",
    "                    db[a].append(db[a-1][b-1]+1)\n",
    "                if db[a][b] > ml:\n",
    "                    ml = db[a][b]\n",
    "                    mi = a+1-ml\n",
    "            else:\n",
    "                db[a].append(0)\n",
    "        print(db)\n",
    "    return s1[mi:mi+ml]"
   ]
  },
  {
   "cell_type": "code",
   "execution_count": 75,
   "metadata": {},
   "outputs": [
    {
     "name": "stdout",
     "output_type": "stream",
     "text": [
      "[[1, 1, 1, 0, 1]]\n",
      "[[1, 1, 1, 0, 1], [1, 2, 2, 0, 1]]\n",
      "[[1, 1, 1, 0, 1], [1, 2, 2, 0, 1], [0, 0, 0, 3, 0]]\n",
      "[[1, 1, 1, 0, 1], [1, 2, 2, 0, 1], [0, 0, 0, 3, 0], [1, 1, 1, 0, 4]]\n",
      "[[1, 1, 1, 0, 1], [1, 2, 2, 0, 1], [0, 0, 0, 3, 0], [1, 1, 1, 0, 4], [1, 2, 2, 0, 1]]\n"
     ]
    },
    {
     "data": {
      "text/plain": [
       "'aaba'"
      ]
     },
     "execution_count": 75,
     "metadata": {},
     "output_type": "execute_result"
    }
   ],
   "source": [
    "lcs(s2,s1)"
   ]
  }
 ],
 "metadata": {
  "kernelspec": {
   "display_name": "Python 3",
   "language": "python",
   "name": "python3"
  },
  "language_info": {
   "codemirror_mode": {
    "name": "ipython",
    "version": 3
   },
   "file_extension": ".py",
   "mimetype": "text/x-python",
   "name": "python",
   "nbconvert_exporter": "python",
   "pygments_lexer": "ipython3",
   "version": "3.6.8"
  }
 },
 "nbformat": 4,
 "nbformat_minor": 2
}
