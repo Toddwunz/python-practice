{
 "cells": [
  {
   "cell_type": "markdown",
   "metadata": {},
   "source": [
    "## 带过期的LRU 缓存器装饰器：\n",
    "*FIFO:先进先出\n",
    "\n",
    "*LFU：最近最少使用   计数\n",
    "\n",
    "*LRU:最近最久未使用  计时\n",
    "\n",
    "*思路：Value 里加一个最后一次使用的时间戳"
   ]
  },
  {
   "cell_type": "code",
   "execution_count": 50,
   "metadata": {},
   "outputs": [],
   "source": [
    "# import inspect\n",
    "import functools\n",
    "import datetime\n",
    "import time\n",
    "\n",
    "def cache(maxsize=128,expire=0):\n",
    "    def make_key(fn,args,kwargs):\n",
    "        ret = []\n",
    "        names = set()\n",
    "        params = inspect.signature(fn).parameters\n",
    "        keys = list(params.keys())\n",
    "        for i,arg in enumerate(args):\n",
    "            ret.append((keys[i],arg))\n",
    "            names.add(keys[i])\n",
    "        ret.extend(kwargs.items())\n",
    "        names.update(kwargs.keys())\n",
    "        for k,v in params.items():\n",
    "            if k not in names:\n",
    "                ret.append((k,v.default))\n",
    "        ret.sort(key=lambda x: x[0])\n",
    "        return '&'.join(['{}={}'.format(name,arg) for name,arg in ret])\n",
    "    \n",
    "    def _cache(fn):\n",
    "        data = {}\n",
    "        queue = []\n",
    "        @functools.wraps(fn)\n",
    "        def wrap(*args,**kwargs):\n",
    "            key = make_key(fn,args,kwargs)\n",
    "            now = datetime.datetime.now().timestamp()\n",
    "            \n",
    "            #remove expire data \n",
    "            if expire != 0:\n",
    "                #for k,(_,timestamp,_) in list(data.items()):\n",
    "                for k,(_,timestamp,_) in (x for x in data.items()):\n",
    "                    if now - timestamp >= expire:\n",
    "                        data.pop(k)\n",
    "                        queue.remove(k)\n",
    "            # exchange data\n",
    "            if len(data) >= maxsize:\n",
    "                k = sorted(data.items(), key = lambda x:x[1][1])[0][0]\n",
    "                data.pop(k)\n",
    "                queue.remove(k)\n",
    "                \n",
    "            if key in data.keys():\n",
    "                value, timestamp = data[key]\n",
    "                if expire == 0 or now - timestamp < expire:\n",
    "                    data[key] = (value,now)\n",
    "                    queue.insert(0,key)\n",
    "                    return value\n",
    "                else:\n",
    "                    data.pop(key)\n",
    "                    queue.remove(k)\n",
    "            value = fn(*args,**kwargs)\n",
    "            data[key] = (value,now)\n",
    "            queue.insert(0,key)\n",
    "            return value\n",
    "        return wrap\n",
    "    return _cache"
   ]
  },
  {
   "cell_type": "code",
   "execution_count": 7,
   "metadata": {},
   "outputs": [],
   "source": []
  },
  {
   "cell_type": "code",
   "execution_count": 8,
   "metadata": {},
   "outputs": [
    {
     "data": {
      "text/plain": [
       "<function __main__.cache.<locals>._cache.<locals>.wrap>"
      ]
     },
     "execution_count": 8,
     "metadata": {},
     "output_type": "execute_result"
    }
   ],
   "source": [
    "cache(maxsize=3,expire=0)(add(3,4))"
   ]
  },
  {
   "cell_type": "code",
   "execution_count": 51,
   "metadata": {},
   "outputs": [],
   "source": [
    "@cache(maxsize=3,expire=0)\n",
    "def add(x,y):\n",
    "    time.sleep(3)\n",
    "    return x + y"
   ]
  },
  {
   "cell_type": "code",
   "execution_count": 52,
   "metadata": {},
   "outputs": [
    {
     "data": {
      "text/plain": [
       "7"
      ]
     },
     "execution_count": 52,
     "metadata": {},
     "output_type": "execute_result"
    }
   ],
   "source": [
    "add(3,4)"
   ]
  },
  {
   "cell_type": "code",
   "execution_count": 53,
   "metadata": {},
   "outputs": [
    {
     "data": {
      "text/plain": [
       "9"
      ]
     },
     "execution_count": 53,
     "metadata": {},
     "output_type": "execute_result"
    }
   ],
   "source": [
    "add(5,4)"
   ]
  },
  {
   "cell_type": "code",
   "execution_count": 54,
   "metadata": {},
   "outputs": [
    {
     "data": {
      "text/plain": [
       "9"
      ]
     },
     "execution_count": 54,
     "metadata": {},
     "output_type": "execute_result"
    }
   ],
   "source": [
    "add(4,5)"
   ]
  },
  {
   "cell_type": "code",
   "execution_count": 55,
   "metadata": {},
   "outputs": [
    {
     "data": {
      "text/plain": [
       "11"
      ]
     },
     "execution_count": 55,
     "metadata": {},
     "output_type": "execute_result"
    }
   ],
   "source": [
    "add(5,6)"
   ]
  },
  {
   "cell_type": "code",
   "execution_count": 56,
   "metadata": {},
   "outputs": [
    {
     "data": {
      "text/plain": [
       "11"
      ]
     },
     "execution_count": 56,
     "metadata": {},
     "output_type": "execute_result"
    }
   ],
   "source": [
    "add(5,6)"
   ]
  },
  {
   "cell_type": "code",
   "execution_count": 57,
   "metadata": {},
   "outputs": [
    {
     "data": {
      "text/plain": [
       "7"
      ]
     },
     "execution_count": 57,
     "metadata": {},
     "output_type": "execute_result"
    }
   ],
   "source": [
    "add(3,4)"
   ]
  },
  {
   "cell_type": "code",
   "execution_count": null,
   "metadata": {},
   "outputs": [],
   "source": []
  }
 ],
 "metadata": {
  "kernelspec": {
   "display_name": "Python 3",
   "language": "python",
   "name": "python3"
  },
  "language_info": {
   "codemirror_mode": {
    "name": "ipython",
    "version": 3
   },
   "file_extension": ".py",
   "mimetype": "text/x-python",
   "name": "python",
   "nbconvert_exporter": "python",
   "pygments_lexer": "ipython3",
   "version": "3.5.5"
  }
 },
 "nbformat": 4,
 "nbformat_minor": 2
}
